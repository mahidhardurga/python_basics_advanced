{
 "cells": [
  {
   "cell_type": "markdown",
   "id": "13efcbb3",
   "metadata": {},
   "source": [
    "# String Manupulation"
   ]
  },
  {
   "cell_type": "code",
   "execution_count": 2,
   "id": "7af7a8b9",
   "metadata": {},
   "outputs": [],
   "source": [
    "s=\"Sow are you\""
   ]
  },
  {
   "cell_type": "code",
   "execution_count": 3,
   "id": "b586b3a4",
   "metadata": {},
   "outputs": [
    {
     "ename": "TypeError",
     "evalue": "'str' object does not support item assignment",
     "output_type": "error",
     "traceback": [
      "\u001b[0;31m---------------------------------------------------------------------------\u001b[0m",
      "\u001b[0;31mTypeError\u001b[0m                                 Traceback (most recent call last)",
      "\u001b[0;32m<ipython-input-3-5eb4deff5f7f>\u001b[0m in \u001b[0;36m<module>\u001b[0;34m\u001b[0m\n\u001b[0;32m----> 1\u001b[0;31m \u001b[0ms\u001b[0m\u001b[0;34m[\u001b[0m\u001b[0;36m0\u001b[0m\u001b[0;34m]\u001b[0m\u001b[0;34m=\u001b[0m\u001b[0;34m'H'\u001b[0m\u001b[0;34m\u001b[0m\u001b[0;34m\u001b[0m\u001b[0m\n\u001b[0m",
      "\u001b[0;31mTypeError\u001b[0m: 'str' object does not support item assignment"
     ]
    }
   ],
   "source": [
    "s[0]='H' # string is immutable."
   ]
  },
  {
   "cell_type": "code",
   "execution_count": 4,
   "id": "72e7bb99",
   "metadata": {},
   "outputs": [],
   "source": [
    "l=['dlsdfl',234,33,3,4,True]"
   ]
  },
  {
   "cell_type": "code",
   "execution_count": 5,
   "id": "9d8dfcef",
   "metadata": {},
   "outputs": [],
   "source": [
    "l[0]='Manidhar' # list is mutable"
   ]
  },
  {
   "cell_type": "code",
   "execution_count": 7,
   "id": "a04ce808",
   "metadata": {},
   "outputs": [
    {
     "data": {
      "text/plain": [
       "'Manidhar Kumar'"
      ]
     },
     "execution_count": 7,
     "metadata": {},
     "output_type": "execute_result"
    }
   ],
   "source": [
    "\"Manidhar\" + \" Kumar\""
   ]
  },
  {
   "cell_type": "code",
   "execution_count": 8,
   "id": "592b19b2",
   "metadata": {},
   "outputs": [
    {
     "data": {
      "text/plain": [
       "'Mani Mani Mani Mani Mani '"
      ]
     },
     "execution_count": 8,
     "metadata": {},
     "output_type": "execute_result"
    }
   ],
   "source": [
    "\"Mani \"*5"
   ]
  },
  {
   "cell_type": "code",
   "execution_count": 31,
   "id": "bafbb889",
   "metadata": {},
   "outputs": [],
   "source": [
    "s=\"my name is Manidhar Kumar\""
   ]
  },
  {
   "cell_type": "code",
   "execution_count": 33,
   "id": "265aa52a",
   "metadata": {},
   "outputs": [
    {
     "data": {
      "text/plain": [
       "0"
      ]
     },
     "execution_count": 33,
     "metadata": {},
     "output_type": "execute_result"
    }
   ],
   "source": [
    "s.find('m')"
   ]
  },
  {
   "cell_type": "code",
   "execution_count": 34,
   "id": "f6e72023",
   "metadata": {},
   "outputs": [
    {
     "data": {
      "text/plain": [
       "-1"
      ]
     },
     "execution_count": 34,
     "metadata": {},
     "output_type": "execute_result"
    }
   ],
   "source": [
    "s.find('mn')"
   ]
  },
  {
   "cell_type": "code",
   "execution_count": 35,
   "id": "a7950b86",
   "metadata": {},
   "outputs": [
    {
     "name": "stdout",
     "output_type": "stream",
     "text": [
      "3\n",
      "4\n",
      "5\n",
      "6\n"
     ]
    }
   ],
   "source": [
    "b=s.find(\"name\")\n",
    "for i in range(b,b+4):\n",
    "    print(i)"
   ]
  },
  {
   "cell_type": "code",
   "execution_count": 36,
   "id": "3c547e04",
   "metadata": {},
   "outputs": [
    {
     "data": {
      "text/plain": [
       "'my name is Manidhar Kumar'"
      ]
     },
     "execution_count": 36,
     "metadata": {},
     "output_type": "execute_result"
    }
   ],
   "source": [
    "s"
   ]
  },
  {
   "cell_type": "code",
   "execution_count": 37,
   "id": "78d15290",
   "metadata": {},
   "outputs": [
    {
     "data": {
      "text/plain": [
       "3"
      ]
     },
     "execution_count": 37,
     "metadata": {},
     "output_type": "execute_result"
    }
   ],
   "source": [
    "s.count(\"m\")"
   ]
  },
  {
   "cell_type": "code",
   "execution_count": 44,
   "id": "bcaec459",
   "metadata": {},
   "outputs": [
    {
     "data": {
      "text/plain": [
       "4"
      ]
     },
     "execution_count": 44,
     "metadata": {},
     "output_type": "execute_result"
    }
   ],
   "source": [
    "s.lower().count(\"m\")"
   ]
  },
  {
   "cell_type": "code",
   "execution_count": 38,
   "id": "3086e93f",
   "metadata": {},
   "outputs": [
    {
     "data": {
      "text/plain": [
       "1"
      ]
     },
     "execution_count": 38,
     "metadata": {},
     "output_type": "execute_result"
    }
   ],
   "source": [
    "s.count(\"my\")"
   ]
  },
  {
   "cell_type": "code",
   "execution_count": 39,
   "id": "f95400bd",
   "metadata": {},
   "outputs": [
    {
     "data": {
      "text/plain": [
       "['my', 'name', 'is', 'Manidhar', 'Kumar']"
      ]
     },
     "execution_count": 39,
     "metadata": {},
     "output_type": "execute_result"
    }
   ],
   "source": [
    "s.split()"
   ]
  },
  {
   "cell_type": "code",
   "execution_count": 40,
   "id": "ccbbb561",
   "metadata": {},
   "outputs": [
    {
     "data": {
      "text/plain": [
       "['my name is ', 'anidhar Kumar']"
      ]
     },
     "execution_count": 40,
     "metadata": {},
     "output_type": "execute_result"
    }
   ],
   "source": [
    "s.split(\"M\")"
   ]
  },
  {
   "cell_type": "code",
   "execution_count": 41,
   "id": "3dc39344",
   "metadata": {},
   "outputs": [
    {
     "data": {
      "text/plain": [
       "list"
      ]
     },
     "execution_count": 41,
     "metadata": {},
     "output_type": "execute_result"
    }
   ],
   "source": [
    "type(s.split(\"M\"))"
   ]
  },
  {
   "cell_type": "code",
   "execution_count": 42,
   "id": "64043303",
   "metadata": {},
   "outputs": [
    {
     "data": {
      "text/plain": [
       "'MY NAME IS MANIDHAR KUMAR'"
      ]
     },
     "execution_count": 42,
     "metadata": {},
     "output_type": "execute_result"
    }
   ],
   "source": [
    "s.upper()"
   ]
  },
  {
   "cell_type": "code",
   "execution_count": 43,
   "id": "4c3dd233",
   "metadata": {},
   "outputs": [
    {
     "data": {
      "text/plain": [
       "'my name is manidhar kumar'"
      ]
     },
     "execution_count": 43,
     "metadata": {},
     "output_type": "execute_result"
    }
   ],
   "source": [
    "s.lower()"
   ]
  },
  {
   "cell_type": "code",
   "execution_count": 45,
   "id": "fb51956b",
   "metadata": {},
   "outputs": [
    {
     "data": {
      "text/plain": [
       "'MY NAME IS mANIDHAR kUMAR'"
      ]
     },
     "execution_count": 45,
     "metadata": {},
     "output_type": "execute_result"
    }
   ],
   "source": [
    "s.swapcase()"
   ]
  },
  {
   "cell_type": "code",
   "execution_count": 47,
   "id": "d34206d9",
   "metadata": {},
   "outputs": [
    {
     "data": {
      "text/plain": [
       "'m y   n a m e   i s   M a n i d h a r   K u m a r'"
      ]
     },
     "execution_count": 47,
     "metadata": {},
     "output_type": "execute_result"
    }
   ],
   "source": [
    "\" \".join(s)"
   ]
  },
  {
   "cell_type": "code",
   "execution_count": 48,
   "id": "f99126a2",
   "metadata": {},
   "outputs": [
    {
     "data": {
      "text/plain": [
       "<reversed at 0x7f6054405220>"
      ]
     },
     "execution_count": 48,
     "metadata": {},
     "output_type": "execute_result"
    }
   ],
   "source": [
    "reversed(s)"
   ]
  },
  {
   "cell_type": "code",
   "execution_count": 50,
   "id": "0efdb4f8",
   "metadata": {},
   "outputs": [
    {
     "data": {
      "text/plain": [
       "['r',\n",
       " 'a',\n",
       " 'm',\n",
       " 'u',\n",
       " 'K',\n",
       " ' ',\n",
       " 'r',\n",
       " 'a',\n",
       " 'h',\n",
       " 'd',\n",
       " 'i',\n",
       " 'n',\n",
       " 'a',\n",
       " 'M',\n",
       " ' ',\n",
       " 's',\n",
       " 'i',\n",
       " ' ',\n",
       " 'e',\n",
       " 'm',\n",
       " 'a',\n",
       " 'n',\n",
       " ' ',\n",
       " 'y',\n",
       " 'm']"
      ]
     },
     "execution_count": 50,
     "metadata": {},
     "output_type": "execute_result"
    }
   ],
   "source": [
    "list(reversed(s))"
   ]
  },
  {
   "cell_type": "code",
   "execution_count": 51,
   "id": "1e3a23b3",
   "metadata": {},
   "outputs": [
    {
     "name": "stdout",
     "output_type": "stream",
     "text": [
      "ramuK rahdinaM si eman ym"
     ]
    }
   ],
   "source": [
    "for i in reversed(s):\n",
    "    print(i,end=\"\")"
   ]
  },
  {
   "cell_type": "code",
   "execution_count": 52,
   "id": "1541eb3e",
   "metadata": {},
   "outputs": [],
   "source": [
    "s=\" manidhar \""
   ]
  },
  {
   "cell_type": "code",
   "execution_count": 54,
   "id": "f0f760fb",
   "metadata": {},
   "outputs": [
    {
     "data": {
      "text/plain": [
       "' manidhar '"
      ]
     },
     "execution_count": 54,
     "metadata": {},
     "output_type": "execute_result"
    }
   ],
   "source": [
    "s"
   ]
  },
  {
   "cell_type": "code",
   "execution_count": 53,
   "id": "2b98fe4c",
   "metadata": {},
   "outputs": [
    {
     "data": {
      "text/plain": [
       "'manidhar'"
      ]
     },
     "execution_count": 53,
     "metadata": {},
     "output_type": "execute_result"
    }
   ],
   "source": [
    "s.strip()"
   ]
  },
  {
   "cell_type": "code",
   "execution_count": 55,
   "id": "5b0af676",
   "metadata": {},
   "outputs": [
    {
     "data": {
      "text/plain": [
       "' Manidhar Kumar '"
      ]
     },
     "execution_count": 55,
     "metadata": {},
     "output_type": "execute_result"
    }
   ],
   "source": [
    "s=\" Manidhar Kumar \"\n",
    "s"
   ]
  },
  {
   "cell_type": "code",
   "execution_count": 56,
   "id": "58dffc9d",
   "metadata": {},
   "outputs": [
    {
     "data": {
      "text/plain": [
       "'Manidhar Kumar'"
      ]
     },
     "execution_count": 56,
     "metadata": {},
     "output_type": "execute_result"
    }
   ],
   "source": [
    "s.strip()"
   ]
  },
  {
   "cell_type": "code",
   "execution_count": 57,
   "id": "d8daed14",
   "metadata": {},
   "outputs": [
    {
     "data": {
      "text/plain": [
       "'Manidhar Kumar '"
      ]
     },
     "execution_count": 57,
     "metadata": {},
     "output_type": "execute_result"
    }
   ],
   "source": [
    "s.lstrip()"
   ]
  },
  {
   "cell_type": "code",
   "execution_count": 58,
   "id": "550d0300",
   "metadata": {},
   "outputs": [
    {
     "data": {
      "text/plain": [
       "' Manidhar Kumar'"
      ]
     },
     "execution_count": 58,
     "metadata": {},
     "output_type": "execute_result"
    }
   ],
   "source": [
    "s.rstrip()"
   ]
  },
  {
   "cell_type": "code",
   "execution_count": 59,
   "id": "5bca3b88",
   "metadata": {},
   "outputs": [],
   "source": [
    "s=\"greeting from Manidhar\""
   ]
  },
  {
   "cell_type": "code",
   "execution_count": 61,
   "id": "55b2cd12",
   "metadata": {},
   "outputs": [
    {
     "data": {
      "text/plain": [
       "'Greetring from Manidhar'"
      ]
     },
     "execution_count": 61,
     "metadata": {},
     "output_type": "execute_result"
    }
   ],
   "source": [
    "s.replace('gr',\"Gr\")"
   ]
  },
  {
   "cell_type": "code",
   "execution_count": 64,
   "id": "89ba1fe3",
   "metadata": {},
   "outputs": [
    {
     "data": {
      "text/plain": [
       "'Greetring from Manidhar'"
      ]
     },
     "execution_count": 64,
     "metadata": {},
     "output_type": "execute_result"
    }
   ],
   "source": [
    "s=s.replace('gr',\"Gr\")\n",
    "s"
   ]
  },
  {
   "cell_type": "code",
   "execution_count": 65,
   "id": "0dfc8b2e",
   "metadata": {},
   "outputs": [],
   "source": [
    "s=\"Manidhar\""
   ]
  },
  {
   "cell_type": "code",
   "execution_count": 67,
   "id": "9157ea7d",
   "metadata": {},
   "outputs": [
    {
     "data": {
      "text/plain": [
       "'######Manidhar######'"
      ]
     },
     "execution_count": 67,
     "metadata": {},
     "output_type": "execute_result"
    }
   ],
   "source": [
    "s.center(20,\"#\")"
   ]
  },
  {
   "cell_type": "code",
   "execution_count": 69,
   "id": "b520f417",
   "metadata": {},
   "outputs": [
    {
     "ename": "TypeError",
     "evalue": "The fill character must be exactly one character long",
     "output_type": "error",
     "traceback": [
      "\u001b[0;31m---------------------------------------------------------------------------\u001b[0m",
      "\u001b[0;31mTypeError\u001b[0m                                 Traceback (most recent call last)",
      "\u001b[0;32m<ipython-input-69-305f50e605e0>\u001b[0m in \u001b[0;36m<module>\u001b[0;34m\u001b[0m\n\u001b[0;32m----> 1\u001b[0;31m \u001b[0ms\u001b[0m\u001b[0;34m.\u001b[0m\u001b[0mcenter\u001b[0m\u001b[0;34m(\u001b[0m\u001b[0;36m20\u001b[0m\u001b[0;34m,\u001b[0m\u001b[0;34m\"##\"\u001b[0m\u001b[0;34m)\u001b[0m\u001b[0;34m\u001b[0m\u001b[0;34m\u001b[0m\u001b[0m\n\u001b[0m",
      "\u001b[0;31mTypeError\u001b[0m: The fill character must be exactly one character long"
     ]
    }
   ],
   "source": [
    "s.center(20,\"##\")"
   ]
  },
  {
   "cell_type": "code",
   "execution_count": 72,
   "id": "544df325",
   "metadata": {},
   "outputs": [
    {
     "data": {
      "text/plain": [
       "'Manidhar\\tKumar\\t Karnatakam'"
      ]
     },
     "execution_count": 72,
     "metadata": {},
     "output_type": "execute_result"
    }
   ],
   "source": [
    "s=\"Manidhar\\tKumar\\t Karnatakam\"\n",
    "s"
   ]
  },
  {
   "cell_type": "code",
   "execution_count": 73,
   "id": "ac44fd30",
   "metadata": {},
   "outputs": [
    {
     "data": {
      "text/plain": [
       "'Manidhar        Kumar    Karnatakam'"
      ]
     },
     "execution_count": 73,
     "metadata": {},
     "output_type": "execute_result"
    }
   ],
   "source": [
    "s.expandtabs()"
   ]
  },
  {
   "cell_type": "raw",
   "id": "f04c2e8b",
   "metadata": {},
   "source": [
    "a=\"we all are developers and love to create new things\"\n",
    "1. Normalize all the string in lower case\n",
    "2. Find number of occurances of \"a\" in the entire data\n",
    "3. Find all the location/index of \"a\" in string\n",
    "4. replace all the \"a\" with \"A\"\n",
    "5. print all the words as a list"
   ]
  },
  {
   "cell_type": "code",
   "execution_count": 80,
   "id": "8092c055",
   "metadata": {},
   "outputs": [
    {
     "name": "stdout",
     "output_type": "stream",
     "text": [
      "we all are developers and love to create new things\n",
      "4\n",
      "[3, 7, 22, 37]\n",
      "we All Are developers And love to creAte new things\n",
      "['we', 'all', 'are', 'developers', 'and', 'love', 'to', 'create', 'new', 'things']\n"
     ]
    }
   ],
   "source": [
    "a=\"we all are developers and love to create new things\"\n",
    "print(a.lower())\n",
    "print(a.count(\"a\"))\n",
    "res=[]\n",
    "for i in range(len(a)):\n",
    "    if a[i]=='a':\n",
    "        res.append(i)\n",
    "'''\n",
    "for i,val in enumerate(a):\n",
    "    if val=='a':\n",
    "        res.append(i)\n",
    "'''        \n",
    "#res = [i for i in range(len(a)) if a.startswith(\"a\", i)]\n",
    "print(res)\n",
    "print(a.replace('a', \"A\"))\n",
    "print(a.split())"
   ]
  },
  {
   "cell_type": "code",
   "execution_count": 81,
   "id": "c74f9803",
   "metadata": {},
   "outputs": [],
   "source": [
    "s=\"mani\""
   ]
  },
  {
   "cell_type": "code",
   "execution_count": 82,
   "id": "dda7cd99",
   "metadata": {},
   "outputs": [
    {
     "data": {
      "text/plain": [
       "False"
      ]
     },
     "execution_count": 82,
     "metadata": {},
     "output_type": "execute_result"
    }
   ],
   "source": [
    "s.isupper()"
   ]
  },
  {
   "cell_type": "code",
   "execution_count": 83,
   "id": "f47ec835",
   "metadata": {},
   "outputs": [],
   "source": [
    "s=\"Mani\""
   ]
  },
  {
   "cell_type": "code",
   "execution_count": 84,
   "id": "102b4a31",
   "metadata": {},
   "outputs": [
    {
     "data": {
      "text/plain": [
       "False"
      ]
     },
     "execution_count": 84,
     "metadata": {},
     "output_type": "execute_result"
    }
   ],
   "source": [
    "s.isupper()"
   ]
  },
  {
   "cell_type": "code",
   "execution_count": 85,
   "id": "ae89f373",
   "metadata": {},
   "outputs": [
    {
     "data": {
      "text/plain": [
       "False"
      ]
     },
     "execution_count": 85,
     "metadata": {},
     "output_type": "execute_result"
    }
   ],
   "source": [
    "s.islower()"
   ]
  },
  {
   "cell_type": "code",
   "execution_count": 86,
   "id": "99011456",
   "metadata": {},
   "outputs": [
    {
     "data": {
      "text/plain": [
       "True"
      ]
     },
     "execution_count": 86,
     "metadata": {},
     "output_type": "execute_result"
    }
   ],
   "source": [
    "s.isalpha()"
   ]
  },
  {
   "cell_type": "code",
   "execution_count": 87,
   "id": "76f10bea",
   "metadata": {},
   "outputs": [
    {
     "data": {
      "text/plain": [
       "True"
      ]
     },
     "execution_count": 87,
     "metadata": {},
     "output_type": "execute_result"
    }
   ],
   "source": [
    "s.isalnum()"
   ]
  },
  {
   "cell_type": "code",
   "execution_count": 89,
   "id": "6b1491a4",
   "metadata": {},
   "outputs": [],
   "source": [
    "s=\"  Mani\""
   ]
  },
  {
   "cell_type": "code",
   "execution_count": 90,
   "id": "3d63e9da",
   "metadata": {},
   "outputs": [
    {
     "data": {
      "text/plain": [
       "False"
      ]
     },
     "execution_count": 90,
     "metadata": {},
     "output_type": "execute_result"
    }
   ],
   "source": [
    "s.isspace()"
   ]
  },
  {
   "cell_type": "code",
   "execution_count": 91,
   "id": "0453d3b1",
   "metadata": {},
   "outputs": [
    {
     "data": {
      "text/plain": [
       "True"
      ]
     },
     "execution_count": 91,
     "metadata": {},
     "output_type": "execute_result"
    }
   ],
   "source": [
    "s=\"  \"\n",
    "s.isspace()"
   ]
  },
  {
   "cell_type": "code",
   "execution_count": 92,
   "id": "f426675b",
   "metadata": {},
   "outputs": [
    {
     "data": {
      "text/plain": [
       "False"
      ]
     },
     "execution_count": 92,
     "metadata": {},
     "output_type": "execute_result"
    }
   ],
   "source": [
    "s.isdigit()"
   ]
  },
  {
   "cell_type": "code",
   "execution_count": 93,
   "id": "3a1aee85",
   "metadata": {},
   "outputs": [
    {
     "data": {
      "text/plain": [
       "False"
      ]
     },
     "execution_count": 93,
     "metadata": {},
     "output_type": "execute_result"
    }
   ],
   "source": [
    "s=\"Manidhar\"\n",
    "s.isdigit()"
   ]
  },
  {
   "cell_type": "code",
   "execution_count": 94,
   "id": "f0fc298e",
   "metadata": {},
   "outputs": [
    {
     "data": {
      "text/plain": [
       "True"
      ]
     },
     "execution_count": 94,
     "metadata": {},
     "output_type": "execute_result"
    }
   ],
   "source": [
    "s.endswith('r')"
   ]
  },
  {
   "cell_type": "code",
   "execution_count": 95,
   "id": "4cbc56b5",
   "metadata": {},
   "outputs": [
    {
     "data": {
      "text/plain": [
       "True"
      ]
     },
     "execution_count": 95,
     "metadata": {},
     "output_type": "execute_result"
    }
   ],
   "source": [
    "s.startswith('M')"
   ]
  },
  {
   "cell_type": "code",
   "execution_count": 96,
   "id": "a83e2a21",
   "metadata": {},
   "outputs": [
    {
     "data": {
      "text/plain": [
       "True"
      ]
     },
     "execution_count": 96,
     "metadata": {},
     "output_type": "execute_result"
    }
   ],
   "source": [
    "s.istitle()"
   ]
  },
  {
   "cell_type": "code",
   "execution_count": 97,
   "id": "8fa66392",
   "metadata": {},
   "outputs": [
    {
     "name": "stdout",
     "output_type": "stream",
     "text": [
      "M is a consonent\n",
      "a is a vowel\n",
      "n is a consonent\n",
      "i is a vowel\n",
      "d is a consonent\n",
      "h is a consonent\n",
      "a is a vowel\n",
      "r is a consonent\n"
     ]
    }
   ],
   "source": [
    "vowels='AaEeiIoOuU'\n",
    "name=\"Manidhar\"\n",
    "for i in name:\n",
    "    if i in vowels:\n",
    "        print(\"{} is a vowel\".format(i))\n",
    "    else:\n",
    "        print(\"{} is a consonent\".format(i))"
   ]
  },
  {
   "cell_type": "code",
   "execution_count": 98,
   "id": "6ad2867e",
   "metadata": {},
   "outputs": [
    {
     "name": "stdout",
     "output_type": "stream",
     "text": [
      "M is a consonent\n",
      "a is a vowel\n",
      "n is a consonent\n",
      "i is a vowel\n",
      "d is a consonent\n",
      "h is a consonent\n",
      "a is a vowel\n",
      "r is a consonent\n"
     ]
    }
   ],
   "source": [
    "vowels='aeiou'\n",
    "name=\"Manidhar\"\n",
    "for i in name:\n",
    "    if i.lower() in vowels:\n",
    "        print(\"{} is a vowel\".format(i))\n",
    "    else:\n",
    "        print(\"{} is a consonent\".format(i))"
   ]
  },
  {
   "cell_type": "code",
   "execution_count": 99,
   "id": "057d23e2",
   "metadata": {},
   "outputs": [
    {
     "data": {
      "text/plain": [
       "'my name is Manidhar'"
      ]
     },
     "execution_count": 99,
     "metadata": {},
     "output_type": "execute_result"
    }
   ],
   "source": [
    "\"{} name is Manidhar\".format(\"my\")"
   ]
  },
  {
   "cell_type": "code",
   "execution_count": 100,
   "id": "250bccd6",
   "metadata": {},
   "outputs": [
    {
     "data": {
      "text/plain": [
       "'my name is Manidhar'"
      ]
     },
     "execution_count": 100,
     "metadata": {},
     "output_type": "execute_result"
    }
   ],
   "source": [
    "\"{} name {} Manidhar\".format(\"my\",\"is\")"
   ]
  },
  {
   "cell_type": "code",
   "execution_count": 101,
   "id": "da0dbec6",
   "metadata": {},
   "outputs": [
    {
     "name": "stdout",
     "output_type": "stream",
     "text": [
      "My\n",
      "is\n"
     ]
    },
    {
     "data": {
      "text/plain": [
       "'My name is Manidhar'"
      ]
     },
     "execution_count": 101,
     "metadata": {},
     "output_type": "execute_result"
    }
   ],
   "source": [
    "\"{} name {} Manidhar\".format(input(),input())"
   ]
  },
  {
   "cell_type": "raw",
   "id": "ec66f30a",
   "metadata": {},
   "source": [
    "Q) write code to check whether input given by user is palindrome or not"
   ]
  },
  {
   "cell_type": "code",
   "execution_count": 103,
   "id": "670e69c3",
   "metadata": {},
   "outputs": [
    {
     "name": "stdout",
     "output_type": "stream",
     "text": [
      "Enter string : abcd\n",
      "Not Palindrome\n"
     ]
    }
   ],
   "source": [
    "s=input(\"Enter string : \")\n",
    "print(\"Palindrome\" if s==s[::-1] else \"Not Palindrome\") # we are making use of ternary opration"
   ]
  }
 ],
 "metadata": {
  "kernelspec": {
   "display_name": "Python 3",
   "language": "python",
   "name": "python3"
  },
  "language_info": {
   "codemirror_mode": {
    "name": "ipython",
    "version": 3
   },
   "file_extension": ".py",
   "mimetype": "text/x-python",
   "name": "python",
   "nbconvert_exporter": "python",
   "pygments_lexer": "ipython3",
   "version": "3.8.11"
  }
 },
 "nbformat": 4,
 "nbformat_minor": 5
}
