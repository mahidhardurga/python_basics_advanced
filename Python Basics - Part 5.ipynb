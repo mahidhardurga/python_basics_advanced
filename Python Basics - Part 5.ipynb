{
 "cells": [
  {
   "cell_type": "markdown",
   "id": "2795ad5b",
   "metadata": {},
   "source": [
    "# Tuples,Sets & Dictionaries"
   ]
  },
  {
   "cell_type": "code",
   "execution_count": null,
   "id": "579b98f6",
   "metadata": {},
   "outputs": [],
   "source": [
    "# 20th March Session"
   ]
  },
  {
   "cell_type": "code",
   "execution_count": 1,
   "id": "898512d2",
   "metadata": {},
   "outputs": [
    {
     "data": {
      "text/plain": [
       "tuple"
      ]
     },
     "execution_count": 1,
     "metadata": {},
     "output_type": "execute_result"
    }
   ],
   "source": [
    "t=()\n",
    "type(t)"
   ]
  },
  {
   "cell_type": "code",
   "execution_count": 2,
   "id": "d34a932d",
   "metadata": {},
   "outputs": [
    {
     "data": {
      "text/plain": [
       "list"
      ]
     },
     "execution_count": 2,
     "metadata": {},
     "output_type": "execute_result"
    }
   ],
   "source": [
    "l=[]\n",
    "type(l)"
   ]
  },
  {
   "cell_type": "code",
   "execution_count": 6,
   "id": "0acf0fcf",
   "metadata": {},
   "outputs": [],
   "source": [
    "t1=(232,\"manidhar\",35.4,True,25+10j)\n",
    "l1=[232,\"manidhar\",35.4,True,25+10j]"
   ]
  },
  {
   "cell_type": "code",
   "execution_count": 8,
   "id": "3d993e98",
   "metadata": {},
   "outputs": [
    {
     "name": "stdout",
     "output_type": "stream",
     "text": [
      "(232, 'manidhar', 35.4, True, (25+10j))\n",
      "[232, 'manidhar', 35.4, True, (25+10j)]\n"
     ]
    }
   ],
   "source": [
    "print(t1)\n",
    "print(l1)"
   ]
  },
  {
   "cell_type": "code",
   "execution_count": 9,
   "id": "d4931644",
   "metadata": {},
   "outputs": [
    {
     "data": {
      "text/plain": [
       "'manidhar'"
      ]
     },
     "execution_count": 9,
     "metadata": {},
     "output_type": "execute_result"
    }
   ],
   "source": [
    "t1[1]"
   ]
  },
  {
   "cell_type": "code",
   "execution_count": 10,
   "id": "7ae9b120",
   "metadata": {},
   "outputs": [
    {
     "data": {
      "text/plain": [
       "(232, 'manidhar', 35.4, True)"
      ]
     },
     "execution_count": 10,
     "metadata": {},
     "output_type": "execute_result"
    }
   ],
   "source": [
    "t1[0:4]"
   ]
  },
  {
   "cell_type": "code",
   "execution_count": 11,
   "id": "7dee2d73",
   "metadata": {},
   "outputs": [
    {
     "data": {
      "text/plain": [
       "((25+10j), True, 35.4, 'manidhar', 232)"
      ]
     },
     "execution_count": 11,
     "metadata": {},
     "output_type": "execute_result"
    }
   ],
   "source": [
    "t1[::-1]"
   ]
  },
  {
   "cell_type": "code",
   "execution_count": 12,
   "id": "68d6afa5",
   "metadata": {},
   "outputs": [
    {
     "data": {
      "text/plain": [
       "(25+10j)"
      ]
     },
     "execution_count": 12,
     "metadata": {},
     "output_type": "execute_result"
    }
   ],
   "source": [
    "t1[-1]"
   ]
  },
  {
   "cell_type": "code",
   "execution_count": 13,
   "id": "85f2823f",
   "metadata": {},
   "outputs": [
    {
     "data": {
      "text/plain": [
       "['Karnatakam', 'manidhar', 35.4, True, (25+10j)]"
      ]
     },
     "execution_count": 13,
     "metadata": {},
     "output_type": "execute_result"
    }
   ],
   "source": [
    "l1[0]=\"Karnatakam\"\n",
    "l1"
   ]
  },
  {
   "cell_type": "code",
   "execution_count": 14,
   "id": "81c7806b",
   "metadata": {},
   "outputs": [
    {
     "ename": "TypeError",
     "evalue": "'tuple' object does not support item assignment",
     "output_type": "error",
     "traceback": [
      "\u001b[1;31m---------------------------------------------------------------------------\u001b[0m",
      "\u001b[1;31mTypeError\u001b[0m                                 Traceback (most recent call last)",
      "\u001b[1;32m<ipython-input-14-b5b4903358e4>\u001b[0m in \u001b[0;36m<module>\u001b[1;34m\u001b[0m\n\u001b[1;32m----> 1\u001b[1;33m \u001b[0mt1\u001b[0m\u001b[1;33m[\u001b[0m\u001b[1;36m0\u001b[0m\u001b[1;33m]\u001b[0m\u001b[1;33m=\u001b[0m\u001b[1;34m\"Karnatakam\"\u001b[0m\u001b[1;33m\u001b[0m\u001b[1;33m\u001b[0m\u001b[0m\n\u001b[0m",
      "\u001b[1;31mTypeError\u001b[0m: 'tuple' object does not support item assignment"
     ]
    }
   ],
   "source": [
    "t1[0]=\"Karnatakam\""
   ]
  },
  {
   "cell_type": "code",
   "execution_count": 15,
   "id": "4644217f",
   "metadata": {},
   "outputs": [],
   "source": [
    "t2=(11,34,56)"
   ]
  },
  {
   "cell_type": "code",
   "execution_count": 16,
   "id": "9fa21e69",
   "metadata": {},
   "outputs": [
    {
     "data": {
      "text/plain": [
       "(232, 'manidhar', 35.4, True, (25+10j), 11, 34, 56)"
      ]
     },
     "execution_count": 16,
     "metadata": {},
     "output_type": "execute_result"
    }
   ],
   "source": [
    "t1+t2"
   ]
  },
  {
   "cell_type": "code",
   "execution_count": 17,
   "id": "526536cc",
   "metadata": {},
   "outputs": [
    {
     "data": {
      "text/plain": [
       "True"
      ]
     },
     "execution_count": 17,
     "metadata": {},
     "output_type": "execute_result"
    }
   ],
   "source": [
    "232 in t1"
   ]
  },
  {
   "cell_type": "code",
   "execution_count": 18,
   "id": "9f48aa1c",
   "metadata": {},
   "outputs": [
    {
     "data": {
      "text/plain": [
       "False"
      ]
     },
     "execution_count": 18,
     "metadata": {},
     "output_type": "execute_result"
    }
   ],
   "source": [
    "'abcd' in t1"
   ]
  },
  {
   "cell_type": "code",
   "execution_count": 19,
   "id": "2945bed1",
   "metadata": {},
   "outputs": [
    {
     "data": {
      "text/plain": [
       "True"
      ]
     },
     "execution_count": 19,
     "metadata": {},
     "output_type": "execute_result"
    }
   ],
   "source": [
    "True in t1"
   ]
  },
  {
   "cell_type": "code",
   "execution_count": 20,
   "id": "16f86224",
   "metadata": {},
   "outputs": [
    {
     "ename": "TypeError",
     "evalue": "'>' not supported between instances of 'str' and 'int'",
     "output_type": "error",
     "traceback": [
      "\u001b[1;31m---------------------------------------------------------------------------\u001b[0m",
      "\u001b[1;31mTypeError\u001b[0m                                 Traceback (most recent call last)",
      "\u001b[1;32m<ipython-input-20-07c1bf72392e>\u001b[0m in \u001b[0;36m<module>\u001b[1;34m\u001b[0m\n\u001b[1;32m----> 1\u001b[1;33m \u001b[0mmax\u001b[0m\u001b[1;33m(\u001b[0m\u001b[0mt1\u001b[0m\u001b[1;33m)\u001b[0m\u001b[1;33m\u001b[0m\u001b[1;33m\u001b[0m\u001b[0m\n\u001b[0m",
      "\u001b[1;31mTypeError\u001b[0m: '>' not supported between instances of 'str' and 'int'"
     ]
    }
   ],
   "source": [
    "max(t1)"
   ]
  },
  {
   "cell_type": "code",
   "execution_count": 22,
   "id": "0a8ed089",
   "metadata": {},
   "outputs": [
    {
     "data": {
      "text/plain": [
       "(11, 34, 56)"
      ]
     },
     "execution_count": 22,
     "metadata": {},
     "output_type": "execute_result"
    }
   ],
   "source": [
    "t2"
   ]
  },
  {
   "cell_type": "code",
   "execution_count": 21,
   "id": "034d515e",
   "metadata": {},
   "outputs": [
    {
     "data": {
      "text/plain": [
       "56"
      ]
     },
     "execution_count": 21,
     "metadata": {},
     "output_type": "execute_result"
    }
   ],
   "source": [
    "max(t2)"
   ]
  },
  {
   "cell_type": "code",
   "execution_count": 23,
   "id": "83ca4862",
   "metadata": {},
   "outputs": [
    {
     "data": {
      "text/plain": [
       "'abc'"
      ]
     },
     "execution_count": 23,
     "metadata": {},
     "output_type": "execute_result"
    }
   ],
   "source": [
    "t4=('ABC','DEF','JKG','abc')\n",
    "max(t4)"
   ]
  },
  {
   "cell_type": "code",
   "execution_count": 24,
   "id": "a3b51290",
   "metadata": {},
   "outputs": [],
   "source": [
    "t5=('a','b','c','a','d')"
   ]
  },
  {
   "cell_type": "code",
   "execution_count": 25,
   "id": "3b177b09",
   "metadata": {},
   "outputs": [
    {
     "data": {
      "text/plain": [
       "2"
      ]
     },
     "execution_count": 25,
     "metadata": {},
     "output_type": "execute_result"
    }
   ],
   "source": [
    "t5.count('a')"
   ]
  },
  {
   "cell_type": "code",
   "execution_count": 26,
   "id": "5564168e",
   "metadata": {},
   "outputs": [
    {
     "data": {
      "text/plain": [
       "0"
      ]
     },
     "execution_count": 26,
     "metadata": {},
     "output_type": "execute_result"
    }
   ],
   "source": [
    "t5.index('a')"
   ]
  },
  {
   "cell_type": "code",
   "execution_count": 27,
   "id": "2c12cb7f",
   "metadata": {},
   "outputs": [
    {
     "data": {
      "text/plain": [
       "11"
      ]
     },
     "execution_count": 27,
     "metadata": {},
     "output_type": "execute_result"
    }
   ],
   "source": [
    "min(t2)"
   ]
  },
  {
   "cell_type": "code",
   "execution_count": 28,
   "id": "fc321dfb",
   "metadata": {},
   "outputs": [
    {
     "data": {
      "text/plain": [
       "'ABC'"
      ]
     },
     "execution_count": 28,
     "metadata": {},
     "output_type": "execute_result"
    }
   ],
   "source": [
    "min(t4)"
   ]
  },
  {
   "cell_type": "code",
   "execution_count": 29,
   "id": "a78224f2",
   "metadata": {},
   "outputs": [],
   "source": [
    "t6=list(t1)"
   ]
  },
  {
   "cell_type": "code",
   "execution_count": 30,
   "id": "25876379",
   "metadata": {},
   "outputs": [
    {
     "data": {
      "text/plain": [
       "list"
      ]
     },
     "execution_count": 30,
     "metadata": {},
     "output_type": "execute_result"
    }
   ],
   "source": [
    "type(t6)"
   ]
  },
  {
   "cell_type": "code",
   "execution_count": 31,
   "id": "59d6e092",
   "metadata": {},
   "outputs": [],
   "source": [
    "t6.insert(3,t5)"
   ]
  },
  {
   "cell_type": "code",
   "execution_count": 32,
   "id": "89c90ad2",
   "metadata": {},
   "outputs": [
    {
     "data": {
      "text/plain": [
       "[232, 'manidhar', 35.4, ('a', 'b', 'c', 'a', 'd'), True, (25+10j)]"
      ]
     },
     "execution_count": 32,
     "metadata": {},
     "output_type": "execute_result"
    }
   ],
   "source": [
    "t6"
   ]
  },
  {
   "cell_type": "code",
   "execution_count": 33,
   "id": "a1648586",
   "metadata": {},
   "outputs": [
    {
     "data": {
      "text/plain": [
       "(232, 'manidhar', 35.4, ('a', 'b', 'c', 'a', 'd'), True, (25+10j))"
      ]
     },
     "execution_count": 33,
     "metadata": {},
     "output_type": "execute_result"
    }
   ],
   "source": [
    "t6=tuple(t6)\n",
    "t6"
   ]
  },
  {
   "cell_type": "code",
   "execution_count": 47,
   "id": "1ca5cf3c",
   "metadata": {},
   "outputs": [],
   "source": [
    "t=((1,2,3,4),(5,6,7,8),(9,10,11,12),[13,14,15],'test','best')"
   ]
  },
  {
   "cell_type": "code",
   "execution_count": 40,
   "id": "8b374a67",
   "metadata": {},
   "outputs": [
    {
     "data": {
      "text/plain": [
       "((1, 2, 3, 4), (5, 6, 7, 8), (9, 10, 11, 12), [13, 14, 15], 'test', 'best')"
      ]
     },
     "execution_count": 40,
     "metadata": {},
     "output_type": "execute_result"
    }
   ],
   "source": [
    "t"
   ]
  },
  {
   "cell_type": "code",
   "execution_count": 41,
   "id": "89ae9d55",
   "metadata": {},
   "outputs": [
    {
     "data": {
      "text/plain": [
       "15"
      ]
     },
     "execution_count": 41,
     "metadata": {},
     "output_type": "execute_result"
    }
   ],
   "source": [
    "t[3][2]"
   ]
  },
  {
   "cell_type": "code",
   "execution_count": 42,
   "id": "ab0f08d8",
   "metadata": {},
   "outputs": [
    {
     "data": {
      "text/plain": [
       "list"
      ]
     },
     "execution_count": 42,
     "metadata": {},
     "output_type": "execute_result"
    }
   ],
   "source": [
    "type(t[3])"
   ]
  },
  {
   "cell_type": "code",
   "execution_count": 44,
   "id": "f97962cb",
   "metadata": {},
   "outputs": [
    {
     "data": {
      "text/plain": [
       "[14, 15]"
      ]
     },
     "execution_count": 44,
     "metadata": {},
     "output_type": "execute_result"
    }
   ],
   "source": [
    "t[3][1:]"
   ]
  },
  {
   "cell_type": "code",
   "execution_count": 48,
   "id": "5a6c7334",
   "metadata": {},
   "outputs": [],
   "source": [
    "del(t)"
   ]
  },
  {
   "cell_type": "code",
   "execution_count": 49,
   "id": "5a410e87",
   "metadata": {},
   "outputs": [
    {
     "ename": "NameError",
     "evalue": "name 't' is not defined",
     "output_type": "error",
     "traceback": [
      "\u001b[1;31m---------------------------------------------------------------------------\u001b[0m",
      "\u001b[1;31mNameError\u001b[0m                                 Traceback (most recent call last)",
      "\u001b[1;32m<ipython-input-49-34fc7a11cb38>\u001b[0m in \u001b[0;36m<module>\u001b[1;34m\u001b[0m\n\u001b[1;32m----> 1\u001b[1;33m \u001b[0mt\u001b[0m\u001b[1;33m\u001b[0m\u001b[1;33m\u001b[0m\u001b[0m\n\u001b[0m",
      "\u001b[1;31mNameError\u001b[0m: name 't' is not defined"
     ]
    }
   ],
   "source": [
    "t"
   ]
  },
  {
   "cell_type": "code",
   "execution_count": 50,
   "id": "8e910bcf",
   "metadata": {},
   "outputs": [
    {
     "data": {
      "text/plain": [
       "set"
      ]
     },
     "execution_count": 50,
     "metadata": {},
     "output_type": "execute_result"
    }
   ],
   "source": [
    "x=set()\n",
    "type(x)"
   ]
  },
  {
   "cell_type": "code",
   "execution_count": 53,
   "id": "59fd64a0",
   "metadata": {},
   "outputs": [],
   "source": [
    "x=set((1,2,3,45,45,45,45,465))"
   ]
  },
  {
   "cell_type": "code",
   "execution_count": 54,
   "id": "9dbc0398",
   "metadata": {},
   "outputs": [
    {
     "data": {
      "text/plain": [
       "{1, 2, 3, 45, 465}"
      ]
     },
     "execution_count": 54,
     "metadata": {},
     "output_type": "execute_result"
    }
   ],
   "source": [
    "x"
   ]
  },
  {
   "cell_type": "code",
   "execution_count": 55,
   "id": "f0e4491f",
   "metadata": {},
   "outputs": [
    {
     "name": "stdout",
     "output_type": "stream",
     "text": [
      "1\n",
      "2\n",
      "3\n",
      "45\n",
      "465\n"
     ]
    }
   ],
   "source": [
    "for i in x:\n",
    "    print(i)"
   ]
  },
  {
   "cell_type": "code",
   "execution_count": 57,
   "id": "95dc5d2d",
   "metadata": {},
   "outputs": [
    {
     "data": {
      "text/plain": [
       "True"
      ]
     },
     "execution_count": 57,
     "metadata": {},
     "output_type": "execute_result"
    }
   ],
   "source": [
    "45 in x"
   ]
  },
  {
   "cell_type": "code",
   "execution_count": 58,
   "id": "c7e65ef5",
   "metadata": {},
   "outputs": [
    {
     "ename": "TypeError",
     "evalue": "'set' object is not subscriptable",
     "output_type": "error",
     "traceback": [
      "\u001b[1;31m---------------------------------------------------------------------------\u001b[0m",
      "\u001b[1;31mTypeError\u001b[0m                                 Traceback (most recent call last)",
      "\u001b[1;32m<ipython-input-58-2f755f117ac9>\u001b[0m in \u001b[0;36m<module>\u001b[1;34m\u001b[0m\n\u001b[1;32m----> 1\u001b[1;33m \u001b[0mx\u001b[0m\u001b[1;33m[\u001b[0m\u001b[1;36m0\u001b[0m\u001b[1;33m]\u001b[0m\u001b[1;33m\u001b[0m\u001b[1;33m\u001b[0m\u001b[0m\n\u001b[0m",
      "\u001b[1;31mTypeError\u001b[0m: 'set' object is not subscriptable"
     ]
    }
   ],
   "source": [
    "x[0]"
   ]
  },
  {
   "cell_type": "code",
   "execution_count": 59,
   "id": "158aaf5a",
   "metadata": {},
   "outputs": [
    {
     "data": {
      "text/plain": [
       "dict"
      ]
     },
     "execution_count": 59,
     "metadata": {},
     "output_type": "execute_result"
    }
   ],
   "source": [
    "s={}\n",
    "type(s)"
   ]
  },
  {
   "cell_type": "code",
   "execution_count": 60,
   "id": "b7e949ec",
   "metadata": {},
   "outputs": [
    {
     "ename": "AttributeError",
     "evalue": "'dict' object has no attribute 'add'",
     "output_type": "error",
     "traceback": [
      "\u001b[1;31m---------------------------------------------------------------------------\u001b[0m",
      "\u001b[1;31mAttributeError\u001b[0m                            Traceback (most recent call last)",
      "\u001b[1;32m<ipython-input-60-587ba3a57ba1>\u001b[0m in \u001b[0;36m<module>\u001b[1;34m\u001b[0m\n\u001b[1;32m----> 1\u001b[1;33m \u001b[0ms\u001b[0m\u001b[1;33m.\u001b[0m\u001b[0madd\u001b[0m\u001b[1;33m(\u001b[0m\u001b[1;36m45\u001b[0m\u001b[1;33m)\u001b[0m\u001b[1;33m\u001b[0m\u001b[1;33m\u001b[0m\u001b[0m\n\u001b[0m",
      "\u001b[1;31mAttributeError\u001b[0m: 'dict' object has no attribute 'add'"
     ]
    }
   ],
   "source": [
    "s.add(45)"
   ]
  },
  {
   "cell_type": "code",
   "execution_count": 61,
   "id": "9b0b4a7f",
   "metadata": {},
   "outputs": [
    {
     "data": {
      "text/plain": [
       "set"
      ]
     },
     "execution_count": 61,
     "metadata": {},
     "output_type": "execute_result"
    }
   ],
   "source": [
    "s={45}\n",
    "type(s)"
   ]
  },
  {
   "cell_type": "code",
   "execution_count": 62,
   "id": "4557113a",
   "metadata": {},
   "outputs": [],
   "source": [
    "s.add('manidhar')"
   ]
  },
  {
   "cell_type": "code",
   "execution_count": 63,
   "id": "2b0a6272",
   "metadata": {},
   "outputs": [
    {
     "data": {
      "text/plain": [
       "{45, 'manidhar'}"
      ]
     },
     "execution_count": 63,
     "metadata": {},
     "output_type": "execute_result"
    }
   ],
   "source": [
    "s"
   ]
  },
  {
   "cell_type": "code",
   "execution_count": 64,
   "id": "488f752e",
   "metadata": {},
   "outputs": [],
   "source": [
    "l=[1,2,3,4,[6,7,8,9],9867]"
   ]
  },
  {
   "cell_type": "code",
   "execution_count": 65,
   "id": "4d41cfcc",
   "metadata": {},
   "outputs": [
    {
     "ename": "TypeError",
     "evalue": "unhashable type: 'list'",
     "output_type": "error",
     "traceback": [
      "\u001b[1;31m---------------------------------------------------------------------------\u001b[0m",
      "\u001b[1;31mTypeError\u001b[0m                                 Traceback (most recent call last)",
      "\u001b[1;32m<ipython-input-65-77fc889cda16>\u001b[0m in \u001b[0;36m<module>\u001b[1;34m\u001b[0m\n\u001b[1;32m----> 1\u001b[1;33m \u001b[0ms\u001b[0m\u001b[1;33m=\u001b[0m\u001b[0mset\u001b[0m\u001b[1;33m(\u001b[0m\u001b[0ml\u001b[0m\u001b[1;33m)\u001b[0m\u001b[1;33m\u001b[0m\u001b[1;33m\u001b[0m\u001b[0m\n\u001b[0m",
      "\u001b[1;31mTypeError\u001b[0m: unhashable type: 'list'"
     ]
    }
   ],
   "source": [
    "s=set(l)"
   ]
  },
  {
   "cell_type": "code",
   "execution_count": 66,
   "id": "c6453b00",
   "metadata": {},
   "outputs": [
    {
     "data": {
      "text/plain": [
       "{45, 'manidhar'}"
      ]
     },
     "execution_count": 66,
     "metadata": {},
     "output_type": "execute_result"
    }
   ],
   "source": [
    "s"
   ]
  },
  {
   "cell_type": "code",
   "execution_count": 67,
   "id": "3aa194bb",
   "metadata": {},
   "outputs": [],
   "source": [
    "s.add(45)"
   ]
  },
  {
   "cell_type": "code",
   "execution_count": 68,
   "id": "93d6cc95",
   "metadata": {},
   "outputs": [
    {
     "data": {
      "text/plain": [
       "{45, 'manidhar'}"
      ]
     },
     "execution_count": 68,
     "metadata": {},
     "output_type": "execute_result"
    }
   ],
   "source": [
    "s"
   ]
  },
  {
   "cell_type": "code",
   "execution_count": 69,
   "id": "cc37746b",
   "metadata": {},
   "outputs": [],
   "source": [
    "s.remove(45)"
   ]
  },
  {
   "cell_type": "code",
   "execution_count": 70,
   "id": "358718fa",
   "metadata": {},
   "outputs": [
    {
     "data": {
      "text/plain": [
       "{'manidhar'}"
      ]
     },
     "execution_count": 70,
     "metadata": {},
     "output_type": "execute_result"
    }
   ],
   "source": [
    "s"
   ]
  },
  {
   "cell_type": "code",
   "execution_count": 71,
   "id": "0cab02b7",
   "metadata": {},
   "outputs": [
    {
     "ename": "KeyError",
     "evalue": "45",
     "output_type": "error",
     "traceback": [
      "\u001b[1;31m---------------------------------------------------------------------------\u001b[0m",
      "\u001b[1;31mKeyError\u001b[0m                                  Traceback (most recent call last)",
      "\u001b[1;32m<ipython-input-71-30b5ee21a9a0>\u001b[0m in \u001b[0;36m<module>\u001b[1;34m\u001b[0m\n\u001b[1;32m----> 1\u001b[1;33m \u001b[0ms\u001b[0m\u001b[1;33m.\u001b[0m\u001b[0mremove\u001b[0m\u001b[1;33m(\u001b[0m\u001b[1;36m45\u001b[0m\u001b[1;33m)\u001b[0m\u001b[1;33m\u001b[0m\u001b[1;33m\u001b[0m\u001b[0m\n\u001b[0m",
      "\u001b[1;31mKeyError\u001b[0m: 45"
     ]
    }
   ],
   "source": [
    "s.remove(45)"
   ]
  },
  {
   "cell_type": "code",
   "execution_count": 72,
   "id": "307228e0",
   "metadata": {},
   "outputs": [],
   "source": [
    "s.clear()"
   ]
  },
  {
   "cell_type": "code",
   "execution_count": 73,
   "id": "4c84d284",
   "metadata": {},
   "outputs": [
    {
     "data": {
      "text/plain": [
       "set()"
      ]
     },
     "execution_count": 73,
     "metadata": {},
     "output_type": "execute_result"
    }
   ],
   "source": [
    "s"
   ]
  },
  {
   "cell_type": "code",
   "execution_count": 74,
   "id": "5d1a33e3",
   "metadata": {},
   "outputs": [],
   "source": [
    "s.add('Manidhar')\n",
    "s.add(233)\n",
    "s.add(True)\n",
    "s.add(5)"
   ]
  },
  {
   "cell_type": "code",
   "execution_count": 75,
   "id": "32313db0",
   "metadata": {},
   "outputs": [],
   "source": [
    "l=[1,2,3,4,5]"
   ]
  },
  {
   "cell_type": "code",
   "execution_count": 77,
   "id": "3928b978",
   "metadata": {},
   "outputs": [],
   "source": [
    "s1=set(l)"
   ]
  },
  {
   "cell_type": "code",
   "execution_count": 78,
   "id": "b47dab29",
   "metadata": {},
   "outputs": [
    {
     "data": {
      "text/plain": [
       "{233, 5, 'Manidhar', True}"
      ]
     },
     "execution_count": 78,
     "metadata": {},
     "output_type": "execute_result"
    }
   ],
   "source": [
    "s"
   ]
  },
  {
   "cell_type": "code",
   "execution_count": 79,
   "id": "3570ef4b",
   "metadata": {},
   "outputs": [
    {
     "ename": "TypeError",
     "evalue": "unsupported operand type(s) for +: 'set' and 'set'",
     "output_type": "error",
     "traceback": [
      "\u001b[1;31m---------------------------------------------------------------------------\u001b[0m",
      "\u001b[1;31mTypeError\u001b[0m                                 Traceback (most recent call last)",
      "\u001b[1;32m<ipython-input-79-864838272211>\u001b[0m in \u001b[0;36m<module>\u001b[1;34m\u001b[0m\n\u001b[1;32m----> 1\u001b[1;33m \u001b[0ms1\u001b[0m\u001b[1;33m+\u001b[0m\u001b[0ms\u001b[0m\u001b[1;33m\u001b[0m\u001b[1;33m\u001b[0m\u001b[0m\n\u001b[0m",
      "\u001b[1;31mTypeError\u001b[0m: unsupported operand type(s) for +: 'set' and 'set'"
     ]
    }
   ],
   "source": [
    "s1+s"
   ]
  },
  {
   "cell_type": "code",
   "execution_count": 80,
   "id": "71b476ef",
   "metadata": {},
   "outputs": [
    {
     "ename": "TypeError",
     "evalue": "unsupported operand type(s) for *: 'set' and 'int'",
     "output_type": "error",
     "traceback": [
      "\u001b[1;31m---------------------------------------------------------------------------\u001b[0m",
      "\u001b[1;31mTypeError\u001b[0m                                 Traceback (most recent call last)",
      "\u001b[1;32m<ipython-input-80-f699cd1c6e0f>\u001b[0m in \u001b[0;36m<module>\u001b[1;34m\u001b[0m\n\u001b[1;32m----> 1\u001b[1;33m \u001b[0ms1\u001b[0m\u001b[1;33m*\u001b[0m\u001b[1;36m4\u001b[0m\u001b[1;33m\u001b[0m\u001b[1;33m\u001b[0m\u001b[0m\n\u001b[0m",
      "\u001b[1;31mTypeError\u001b[0m: unsupported operand type(s) for *: 'set' and 'int'"
     ]
    }
   ],
   "source": [
    "s1*4"
   ]
  },
  {
   "cell_type": "code",
   "execution_count": 81,
   "id": "ba09f605",
   "metadata": {},
   "outputs": [
    {
     "data": {
      "text/plain": [
       "[1, 2, 3, 4, 5]"
      ]
     },
     "execution_count": 81,
     "metadata": {},
     "output_type": "execute_result"
    }
   ],
   "source": [
    "list(s1)"
   ]
  },
  {
   "cell_type": "code",
   "execution_count": 82,
   "id": "dbc2def9",
   "metadata": {},
   "outputs": [],
   "source": [
    "x={'name':'manidhar','age':30}"
   ]
  },
  {
   "cell_type": "code",
   "execution_count": 83,
   "id": "2e95eedd",
   "metadata": {},
   "outputs": [
    {
     "data": {
      "text/plain": [
       "dict"
      ]
     },
     "execution_count": 83,
     "metadata": {},
     "output_type": "execute_result"
    }
   ],
   "source": [
    "type(x)"
   ]
  },
  {
   "cell_type": "code",
   "execution_count": 84,
   "id": "83a59797",
   "metadata": {},
   "outputs": [],
   "source": [
    "x1={'name':'manidhar','age':30,'name':'Manidhar','key':True,'num':40}"
   ]
  },
  {
   "cell_type": "code",
   "execution_count": 85,
   "id": "30bc722d",
   "metadata": {},
   "outputs": [
    {
     "data": {
      "text/plain": [
       "{'name': 'Manidhar', 'age': 30, 'key': True, 'num': 40}"
      ]
     },
     "execution_count": 85,
     "metadata": {},
     "output_type": "execute_result"
    }
   ],
   "source": [
    "x1"
   ]
  },
  {
   "cell_type": "code",
   "execution_count": 86,
   "id": "2a7fa021",
   "metadata": {},
   "outputs": [],
   "source": [
    "x2={(1,2,3):'ABCD','ls':[1,2,3,4]}"
   ]
  },
  {
   "cell_type": "code",
   "execution_count": 87,
   "id": "f091c6f6",
   "metadata": {},
   "outputs": [
    {
     "data": {
      "text/plain": [
       "{(1, 2, 3): 'ABCD', 'ls': [1, 2, 3, 4]}"
      ]
     },
     "execution_count": 87,
     "metadata": {},
     "output_type": "execute_result"
    }
   ],
   "source": [
    "x2"
   ]
  },
  {
   "cell_type": "code",
   "execution_count": 88,
   "id": "073c1d22",
   "metadata": {},
   "outputs": [
    {
     "ename": "TypeError",
     "evalue": "unhashable type: 'list'",
     "output_type": "error",
     "traceback": [
      "\u001b[1;31m---------------------------------------------------------------------------\u001b[0m",
      "\u001b[1;31mTypeError\u001b[0m                                 Traceback (most recent call last)",
      "\u001b[1;32m<ipython-input-88-284681c86b37>\u001b[0m in \u001b[0;36m<module>\u001b[1;34m\u001b[0m\n\u001b[1;32m----> 1\u001b[1;33m \u001b[0mx3\u001b[0m\u001b[1;33m=\u001b[0m\u001b[1;33m{\u001b[0m\u001b[1;33m[\u001b[0m\u001b[1;36m1\u001b[0m\u001b[1;33m,\u001b[0m\u001b[1;36m2\u001b[0m\u001b[1;33m,\u001b[0m\u001b[1;36m3\u001b[0m\u001b[1;33m]\u001b[0m\u001b[1;33m:\u001b[0m\u001b[1;34m'ABCD'\u001b[0m\u001b[1;33m,\u001b[0m\u001b[1;34m'ls'\u001b[0m\u001b[1;33m:\u001b[0m\u001b[1;33m[\u001b[0m\u001b[1;36m1\u001b[0m\u001b[1;33m,\u001b[0m\u001b[1;36m2\u001b[0m\u001b[1;33m,\u001b[0m\u001b[1;36m3\u001b[0m\u001b[1;33m,\u001b[0m\u001b[1;36m4\u001b[0m\u001b[1;33m]\u001b[0m\u001b[1;33m}\u001b[0m\u001b[1;33m\u001b[0m\u001b[1;33m\u001b[0m\u001b[0m\n\u001b[0m",
      "\u001b[1;31mTypeError\u001b[0m: unhashable type: 'list'"
     ]
    }
   ],
   "source": [
    "x3={[1,2,3]:'ABCD','ls':[1,2,3,4]}"
   ]
  },
  {
   "cell_type": "code",
   "execution_count": 89,
   "id": "d500b290",
   "metadata": {},
   "outputs": [
    {
     "ename": "TypeError",
     "evalue": "unhashable type: 'set'",
     "output_type": "error",
     "traceback": [
      "\u001b[1;31m---------------------------------------------------------------------------\u001b[0m",
      "\u001b[1;31mTypeError\u001b[0m                                 Traceback (most recent call last)",
      "\u001b[1;32m<ipython-input-89-8e14fd469b8f>\u001b[0m in \u001b[0;36m<module>\u001b[1;34m\u001b[0m\n\u001b[1;32m----> 1\u001b[1;33m \u001b[0mx3\u001b[0m\u001b[1;33m=\u001b[0m\u001b[1;33m{\u001b[0m\u001b[1;33m{\u001b[0m\u001b[1;36m1\u001b[0m\u001b[1;33m,\u001b[0m\u001b[1;36m2\u001b[0m\u001b[1;33m,\u001b[0m\u001b[1;36m3\u001b[0m\u001b[1;33m}\u001b[0m\u001b[1;33m:\u001b[0m\u001b[1;34m'ABCD'\u001b[0m\u001b[1;33m,\u001b[0m\u001b[1;34m'ls'\u001b[0m\u001b[1;33m:\u001b[0m\u001b[1;33m[\u001b[0m\u001b[1;36m1\u001b[0m\u001b[1;33m,\u001b[0m\u001b[1;36m2\u001b[0m\u001b[1;33m,\u001b[0m\u001b[1;36m3\u001b[0m\u001b[1;33m,\u001b[0m\u001b[1;36m4\u001b[0m\u001b[1;33m]\u001b[0m\u001b[1;33m}\u001b[0m\u001b[1;33m\u001b[0m\u001b[1;33m\u001b[0m\u001b[0m\n\u001b[0m",
      "\u001b[1;31mTypeError\u001b[0m: unhashable type: 'set'"
     ]
    }
   ],
   "source": [
    "x3={{1,2,3}:'ABCD','ls':[1,2,3,4]}"
   ]
  },
  {
   "cell_type": "code",
   "execution_count": 90,
   "id": "23d20386",
   "metadata": {},
   "outputs": [
    {
     "data": {
      "text/plain": [
       "{(1, 2, 3): 'ABCD', 'ls': [1, 2, 3, 4]}"
      ]
     },
     "execution_count": 90,
     "metadata": {},
     "output_type": "execute_result"
    }
   ],
   "source": [
    "x2"
   ]
  },
  {
   "cell_type": "code",
   "execution_count": 91,
   "id": "acce1f7b",
   "metadata": {},
   "outputs": [],
   "source": [
    "x3={(1,2,3):'ABCD','ls':[1,2,3,4],'key':True}"
   ]
  },
  {
   "cell_type": "code",
   "execution_count": 92,
   "id": "efc7447e",
   "metadata": {},
   "outputs": [
    {
     "data": {
      "text/plain": [
       "{(1, 2, 3): 'ABCD', 'ls': [1, 2, 3, 4], 'key': True}"
      ]
     },
     "execution_count": 92,
     "metadata": {},
     "output_type": "execute_result"
    }
   ],
   "source": [
    "x3"
   ]
  },
  {
   "cell_type": "code",
   "execution_count": 93,
   "id": "e9441296",
   "metadata": {},
   "outputs": [
    {
     "data": {
      "text/plain": [
       "True"
      ]
     },
     "execution_count": 93,
     "metadata": {},
     "output_type": "execute_result"
    }
   ],
   "source": [
    "x3['key']"
   ]
  },
  {
   "cell_type": "code",
   "execution_count": 94,
   "id": "a0f04811",
   "metadata": {},
   "outputs": [
    {
     "data": {
      "text/plain": [
       "'ABCD'"
      ]
     },
     "execution_count": 94,
     "metadata": {},
     "output_type": "execute_result"
    }
   ],
   "source": [
    "x3[(1,2,3)]"
   ]
  },
  {
   "cell_type": "code",
   "execution_count": 96,
   "id": "303970f2",
   "metadata": {},
   "outputs": [
    {
     "data": {
      "text/plain": [
       "[1, 2, 3, 4]"
      ]
     },
     "execution_count": 96,
     "metadata": {},
     "output_type": "execute_result"
    }
   ],
   "source": [
    "x3['ls']"
   ]
  },
  {
   "cell_type": "code",
   "execution_count": 97,
   "id": "2587e6c5",
   "metadata": {},
   "outputs": [
    {
     "data": {
      "text/plain": [
       "3"
      ]
     },
     "execution_count": 97,
     "metadata": {},
     "output_type": "execute_result"
    }
   ],
   "source": [
    "x3['ls'][2]"
   ]
  },
  {
   "cell_type": "code",
   "execution_count": 98,
   "id": "35af5f68",
   "metadata": {},
   "outputs": [],
   "source": [
    "x4={'key':False}"
   ]
  },
  {
   "cell_type": "code",
   "execution_count": 99,
   "id": "001c779c",
   "metadata": {},
   "outputs": [
    {
     "ename": "TypeError",
     "evalue": "unsupported operand type(s) for +: 'dict' and 'dict'",
     "output_type": "error",
     "traceback": [
      "\u001b[1;31m---------------------------------------------------------------------------\u001b[0m",
      "\u001b[1;31mTypeError\u001b[0m                                 Traceback (most recent call last)",
      "\u001b[1;32m<ipython-input-99-6b27f76da613>\u001b[0m in \u001b[0;36m<module>\u001b[1;34m\u001b[0m\n\u001b[1;32m----> 1\u001b[1;33m \u001b[0mx3\u001b[0m\u001b[1;33m+\u001b[0m\u001b[0mx4\u001b[0m\u001b[1;33m\u001b[0m\u001b[1;33m\u001b[0m\u001b[0m\n\u001b[0m",
      "\u001b[1;31mTypeError\u001b[0m: unsupported operand type(s) for +: 'dict' and 'dict'"
     ]
    }
   ],
   "source": [
    "x3+x4"
   ]
  },
  {
   "cell_type": "code",
   "execution_count": 100,
   "id": "c900ac50",
   "metadata": {},
   "outputs": [
    {
     "ename": "TypeError",
     "evalue": "unsupported operand type(s) for *: 'dict' and 'int'",
     "output_type": "error",
     "traceback": [
      "\u001b[1;31m---------------------------------------------------------------------------\u001b[0m",
      "\u001b[1;31mTypeError\u001b[0m                                 Traceback (most recent call last)",
      "\u001b[1;32m<ipython-input-100-c2e864ba4d93>\u001b[0m in \u001b[0;36m<module>\u001b[1;34m\u001b[0m\n\u001b[1;32m----> 1\u001b[1;33m \u001b[0mx3\u001b[0m\u001b[1;33m*\u001b[0m\u001b[1;36m4\u001b[0m\u001b[1;33m\u001b[0m\u001b[1;33m\u001b[0m\u001b[0m\n\u001b[0m",
      "\u001b[1;31mTypeError\u001b[0m: unsupported operand type(s) for *: 'dict' and 'int'"
     ]
    }
   ],
   "source": [
    "x3*4"
   ]
  },
  {
   "cell_type": "code",
   "execution_count": 101,
   "id": "8d67a5ad",
   "metadata": {},
   "outputs": [
    {
     "data": {
      "text/plain": [
       "{(1, 2, 3): 'ABCD', 'ls': [1, 2, 3, 4], 'key': True}"
      ]
     },
     "execution_count": 101,
     "metadata": {},
     "output_type": "execute_result"
    }
   ],
   "source": [
    "x3"
   ]
  },
  {
   "cell_type": "code",
   "execution_count": 102,
   "id": "a89d3d6e",
   "metadata": {},
   "outputs": [],
   "source": [
    "x3['ls']='Manidhar'"
   ]
  },
  {
   "cell_type": "code",
   "execution_count": 103,
   "id": "789b168b",
   "metadata": {},
   "outputs": [
    {
     "data": {
      "text/plain": [
       "{(1, 2, 3): 'ABCD', 'ls': 'Manidhar', 'key': True}"
      ]
     },
     "execution_count": 103,
     "metadata": {},
     "output_type": "execute_result"
    }
   ],
   "source": [
    "x3"
   ]
  },
  {
   "cell_type": "code",
   "execution_count": 104,
   "id": "ea75e257",
   "metadata": {},
   "outputs": [
    {
     "data": {
      "text/plain": [
       "dict_keys([(1, 2, 3), 'ls', 'key'])"
      ]
     },
     "execution_count": 104,
     "metadata": {},
     "output_type": "execute_result"
    }
   ],
   "source": [
    "x3.keys()"
   ]
  },
  {
   "cell_type": "code",
   "execution_count": 106,
   "id": "75e6ffe7",
   "metadata": {},
   "outputs": [
    {
     "data": {
      "text/plain": [
       "True"
      ]
     },
     "execution_count": 106,
     "metadata": {},
     "output_type": "execute_result"
    }
   ],
   "source": [
    "'ls' in x3.keys()"
   ]
  },
  {
   "cell_type": "code",
   "execution_count": 109,
   "id": "1744bdaf",
   "metadata": {},
   "outputs": [
    {
     "name": "stdout",
     "output_type": "stream",
     "text": [
      "(1, 2, 3)\n",
      "ls\n",
      "key\n"
     ]
    }
   ],
   "source": [
    "for i in x3:\n",
    "    print(i)"
   ]
  },
  {
   "cell_type": "code",
   "execution_count": 110,
   "id": "602e5224",
   "metadata": {},
   "outputs": [
    {
     "name": "stdout",
     "output_type": "stream",
     "text": [
      "ABCD\n",
      "Manidhar\n",
      "True\n"
     ]
    }
   ],
   "source": [
    "for i in x3:\n",
    "    print(x3[i])"
   ]
  },
  {
   "cell_type": "code",
   "execution_count": 111,
   "id": "c2b02b9f",
   "metadata": {},
   "outputs": [
    {
     "data": {
      "text/plain": [
       "dict_items([((1, 2, 3), 'ABCD'), ('ls', 'Manidhar'), ('key', True)])"
      ]
     },
     "execution_count": 111,
     "metadata": {},
     "output_type": "execute_result"
    }
   ],
   "source": [
    "x3.items()"
   ]
  },
  {
   "cell_type": "code",
   "execution_count": 1,
   "id": "85ed0c7d",
   "metadata": {},
   "outputs": [],
   "source": [
    "x5={(1,2,3):\"tea\"}"
   ]
  },
  {
   "cell_type": "code",
   "execution_count": 2,
   "id": "b5716600",
   "metadata": {},
   "outputs": [
    {
     "data": {
      "text/plain": [
       "'tea'"
      ]
     },
     "execution_count": 2,
     "metadata": {},
     "output_type": "execute_result"
    }
   ],
   "source": [
    "x5[(1,2,3)]"
   ]
  },
  {
   "cell_type": "code",
   "execution_count": 4,
   "id": "19084f5c",
   "metadata": {},
   "outputs": [],
   "source": [
    "x2={'name':{'k1':\"abc\",'k2':[112,22,3,22,34]},'age':45,'True':{1,2,3,4,5},'key':False,346:(111,222,333),'_abcd':[3,4,5,6,7]}"
   ]
  },
  {
   "cell_type": "code",
   "execution_count": 5,
   "id": "715243bb",
   "metadata": {},
   "outputs": [
    {
     "data": {
      "text/plain": [
       "{'name': {'k1': 'abc', 'k2': [112, 22, 3, 22, 34]},\n",
       " 'age': 45,\n",
       " 'True': {1, 2, 3, 4, 5},\n",
       " 'key': False,\n",
       " 346: (111, 222, 333),\n",
       " '_abcd': [3, 4, 5, 6, 7]}"
      ]
     },
     "execution_count": 5,
     "metadata": {},
     "output_type": "execute_result"
    }
   ],
   "source": [
    "x2"
   ]
  },
  {
   "cell_type": "code",
   "execution_count": 6,
   "id": "50d871c4",
   "metadata": {},
   "outputs": [
    {
     "data": {
      "text/plain": [
       "6"
      ]
     },
     "execution_count": 6,
     "metadata": {},
     "output_type": "execute_result"
    }
   ],
   "source": [
    "len(x2)"
   ]
  },
  {
   "cell_type": "markdown",
   "id": "5a0f7a44",
   "metadata": {},
   "source": [
    "# Q) Take input as paragraph\n",
    "(1) Convert whole paragraph to list\n",
    "(2) Removal all the duplicate elements in the list\n",
    "(3) use above distinict elements a key for dictionary and assign your name as a value for all keys in the dictionary\n",
    "(4) Try to print tuple of all the values\n",
    "(5) Try to print all keys of the dictionary"
   ]
  },
  {
   "cell_type": "code",
   "execution_count": 2,
   "id": "ece2364d",
   "metadata": {},
   "outputs": [
    {
     "name": "stdout",
     "output_type": "stream",
     "text": [
      "Enter the pragraph : manidhar kumar karnatakam manidhar kumar karnatakam manidhar kumar karnatakam manidhar kumar karnatakam manidhar kumar karnatakam\n"
     ]
    }
   ],
   "source": [
    "paragraph=input(\"Enter the pragraph : \")\n",
    "list1=paragraph.split(\" \")\n",
    "s1=set(list1)\n",
    "dic=dict.fromkeys(s1,\"Manidhar\")\n",
    "t1=tuple(dic.values())\n",
    "l1=list(dic.keys())"
   ]
  },
  {
   "cell_type": "code",
   "execution_count": 3,
   "id": "bcdedde6",
   "metadata": {},
   "outputs": [
    {
     "data": {
      "text/plain": [
       "['Manidhar', 'Manidhar', 'Manidhar']"
      ]
     },
     "execution_count": 3,
     "metadata": {},
     "output_type": "execute_result"
    }
   ],
   "source": [
    "l1"
   ]
  },
  {
   "cell_type": "code",
   "execution_count": 4,
   "id": "080968fc",
   "metadata": {},
   "outputs": [
    {
     "data": {
      "text/plain": [
       "('manidhar', 'kumar', 'karnatakam')"
      ]
     },
     "execution_count": 4,
     "metadata": {},
     "output_type": "execute_result"
    }
   ],
   "source": [
    "t1"
   ]
  },
  {
   "cell_type": "code",
   "execution_count": 5,
   "id": "c635073d",
   "metadata": {},
   "outputs": [],
   "source": [
    "d={\"company\":\"startup\",\"domain\":\"Data Science\",\"year\":2021}"
   ]
  },
  {
   "cell_type": "code",
   "execution_count": 6,
   "id": "e447afcf",
   "metadata": {},
   "outputs": [
    {
     "name": "stdout",
     "output_type": "stream",
     "text": [
      "print key :  company  value : startup\n",
      "print key :  domain  value : Data Science\n",
      "print key :  year  value : 2021\n"
     ]
    }
   ],
   "source": [
    "for i in d:\n",
    "    print(\"print key : \",i,\" value :\",d[i])"
   ]
  },
  {
   "cell_type": "code",
   "execution_count": 7,
   "id": "00d73546",
   "metadata": {},
   "outputs": [
    {
     "data": {
      "text/plain": [
       "True"
      ]
     },
     "execution_count": 7,
     "metadata": {},
     "output_type": "execute_result"
    }
   ],
   "source": [
    "\"domain\" in d"
   ]
  },
  {
   "cell_type": "code",
   "execution_count": 8,
   "id": "fd5785c9",
   "metadata": {},
   "outputs": [],
   "source": [
    "for i in d:\n",
    "    if i=='year':\n",
    "        if d[i]>2021:\n",
    "            print(\"year is fine\")\n",
    "        else:\n",
    "            d[i]=2022"
   ]
  },
  {
   "cell_type": "code",
   "execution_count": 9,
   "id": "fbe5d1e0",
   "metadata": {},
   "outputs": [
    {
     "data": {
      "text/plain": [
       "{'company': 'startup', 'domain': 'Data Science', 'year': 2022}"
      ]
     },
     "execution_count": 9,
     "metadata": {},
     "output_type": "execute_result"
    }
   ],
   "source": [
    "d"
   ]
  },
  {
   "cell_type": "code",
   "execution_count": 11,
   "id": "97c40f0f",
   "metadata": {},
   "outputs": [
    {
     "data": {
      "text/plain": [
       "{0: 0, 1: 1, 2: 4, 3: 9, 4: 16, 5: 25, 6: 36, 7: 49, 8: 64, 9: 81}"
      ]
     },
     "execution_count": 11,
     "metadata": {},
     "output_type": "execute_result"
    }
   ],
   "source": [
    "mydict={}\n",
    "for i in range(10):\n",
    "    mydict[i]=i*i\n",
    "mydict"
   ]
  },
  {
   "cell_type": "code",
   "execution_count": 13,
   "id": "95252c02",
   "metadata": {},
   "outputs": [
    {
     "data": {
      "text/plain": [
       "{0: 0, 1: 1, 2: 4, 3: 9, 4: 16, 5: 25, 6: 36, 7: 49, 8: 64, 9: 81}"
      ]
     },
     "execution_count": 13,
     "metadata": {},
     "output_type": "execute_result"
    }
   ],
   "source": [
    "{i:i*i for i in range(10)}"
   ]
  },
  {
   "cell_type": "code",
   "execution_count": 14,
   "id": "91e64fcd",
   "metadata": {},
   "outputs": [
    {
     "data": {
      "text/plain": [
       "{0: 0, 2: 4, 4: 16, 6: 36, 8: 64}"
      ]
     },
     "execution_count": 14,
     "metadata": {},
     "output_type": "execute_result"
    }
   ],
   "source": [
    "{i:i*i for i in range(0,10,2)}"
   ]
  },
  {
   "cell_type": "code",
   "execution_count": 15,
   "id": "7e3459ff",
   "metadata": {},
   "outputs": [
    {
     "data": {
      "text/plain": [
       "{0, 4, 16, 36, 64}"
      ]
     },
     "execution_count": 15,
     "metadata": {},
     "output_type": "execute_result"
    }
   ],
   "source": [
    "{i*i for i in range(0,10,2)}"
   ]
  },
  {
   "cell_type": "code",
   "execution_count": null,
   "id": "f0e4be85",
   "metadata": {},
   "outputs": [],
   "source": []
  }
 ],
 "metadata": {
  "kernelspec": {
   "display_name": "Python 3",
   "language": "python",
   "name": "python3"
  },
  "language_info": {
   "codemirror_mode": {
    "name": "ipython",
    "version": 3
   },
   "file_extension": ".py",
   "mimetype": "text/x-python",
   "name": "python",
   "nbconvert_exporter": "python",
   "pygments_lexer": "ipython3",
   "version": "3.8.8"
  }
 },
 "nbformat": 4,
 "nbformat_minor": 5
}
