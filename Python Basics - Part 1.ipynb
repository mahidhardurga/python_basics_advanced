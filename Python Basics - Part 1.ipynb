{
 "cells": [
  {
   "cell_type": "code",
   "execution_count": 1,
   "id": "961e9a14",
   "metadata": {},
   "outputs": [
    {
     "name": "stdout",
     "output_type": "stream",
     "text": [
      "This is my first python program\n"
     ]
    }
   ],
   "source": [
    "print(\"This is my first python program\")"
   ]
  },
  {
   "cell_type": "markdown",
   "id": "e8b4fdd4",
   "metadata": {},
   "source": [
    "Notes:\n",
    "1. To execute teh current cell use shift+Enter or ctl+Enter[You will get to know the difference]\n",
    "2. Go to the function and press Shift + Tab for default document "
   ]
  },
  {
   "cell_type": "code",
   "execution_count": 5,
   "id": "224b6e0e",
   "metadata": {},
   "outputs": [
    {
     "data": {
      "text/plain": [
       "'\\nThis is also \\nmulti\\nline comment\\n'"
      ]
     },
     "execution_count": 5,
     "metadata": {},
     "output_type": "execute_result"
    }
   ],
   "source": [
    "# single line comment\n",
    "\"\"\"\n",
    "Multi line \n",
    "comments\n",
    "\"\"\"\n",
    "'''\n",
    "This is also \n",
    "multi\n",
    "line comment\n",
    "'''"
   ]
  },
  {
   "cell_type": "markdown",
   "id": "4e5c1b7a",
   "metadata": {},
   "source": [
    "Variables"
   ]
  },
  {
   "cell_type": "code",
   "execution_count": 1,
   "id": "8d7e54d5",
   "metadata": {},
   "outputs": [
    {
     "data": {
      "text/plain": [
       "10"
      ]
     },
     "execution_count": 1,
     "metadata": {},
     "output_type": "execute_result"
    }
   ],
   "source": [
    "a=10\n",
    "a"
   ]
  },
  {
   "cell_type": "code",
   "execution_count": 3,
   "id": "a9c7282c",
   "metadata": {},
   "outputs": [
    {
     "data": {
      "text/plain": [
       "int"
      ]
     },
     "execution_count": 3,
     "metadata": {},
     "output_type": "execute_result"
    }
   ],
   "source": [
    "type(a) # type of variable"
   ]
  },
  {
   "cell_type": "code",
   "execution_count": 7,
   "id": "ba7ff92d",
   "metadata": {},
   "outputs": [
    {
     "name": "stdout",
     "output_type": "stream",
     "text": [
      "manidhar\n"
     ]
    },
    {
     "data": {
      "text/plain": [
       "str"
      ]
     },
     "execution_count": 7,
     "metadata": {},
     "output_type": "execute_result"
    }
   ],
   "source": [
    "b=\"manidhar\" # single quote or double quotes is treated as string\n",
    "print(b)\n",
    "type(b)"
   ]
  },
  {
   "cell_type": "code",
   "execution_count": 8,
   "id": "ade66ae1",
   "metadata": {},
   "outputs": [],
   "source": [
    "a,b=100,\"Manidhar Kumar\" # approach to create multiple variables in a single line"
   ]
  },
  {
   "cell_type": "code",
   "execution_count": 9,
   "id": "fba86125",
   "metadata": {},
   "outputs": [
    {
     "name": "stdout",
     "output_type": "stream",
     "text": [
      "100 Manidhar Kumar\n"
     ]
    }
   ],
   "source": [
    "print(a,b)"
   ]
  },
  {
   "cell_type": "code",
   "execution_count": 11,
   "id": "4f9279cb",
   "metadata": {},
   "outputs": [
    {
     "ename": "SyntaxError",
     "evalue": "invalid syntax (<ipython-input-11-6d1d9c1be289>, line 1)",
     "output_type": "error",
     "traceback": [
      "\u001b[1;36m  File \u001b[1;32m\"<ipython-input-11-6d1d9c1be289>\"\u001b[1;36m, line \u001b[1;32m1\u001b[0m\n\u001b[1;33m    1b=50 # fails because variable name cannot start with number\u001b[0m\n\u001b[1;37m     ^\u001b[0m\n\u001b[1;31mSyntaxError\u001b[0m\u001b[1;31m:\u001b[0m invalid syntax\n"
     ]
    }
   ],
   "source": [
    "1b=50 # fails because variable name cannot start with number "
   ]
  },
  {
   "cell_type": "code",
   "execution_count": 13,
   "id": "dd1c847c",
   "metadata": {},
   "outputs": [
    {
     "ename": "SyntaxError",
     "evalue": "invalid syntax (<ipython-input-13-19572fcfbc06>, line 1)",
     "output_type": "error",
     "traceback": [
      "\u001b[1;36m  File \u001b[1;32m\"<ipython-input-13-19572fcfbc06>\"\u001b[1;36m, line \u001b[1;32m1\u001b[0m\n\u001b[1;33m    @s=90 #except _ variable cannot start with special characters\u001b[0m\n\u001b[1;37m      ^\u001b[0m\n\u001b[1;31mSyntaxError\u001b[0m\u001b[1;31m:\u001b[0m invalid syntax\n"
     ]
    }
   ],
   "source": [
    "@s=90 #except _ variable cannot start with special characters "
   ]
  },
  {
   "cell_type": "code",
   "execution_count": 14,
   "id": "9fbfef14",
   "metadata": {},
   "outputs": [],
   "source": [
    "_b=80"
   ]
  },
  {
   "cell_type": "code",
   "execution_count": 15,
   "id": "caf90d1b",
   "metadata": {},
   "outputs": [
    {
     "ename": "TypeError",
     "evalue": "unsupported operand type(s) for @=: 'int' and 'int'",
     "output_type": "error",
     "traceback": [
      "\u001b[1;31m---------------------------------------------------------------------------\u001b[0m",
      "\u001b[1;31mTypeError\u001b[0m                                 Traceback (most recent call last)",
      "\u001b[1;32m<ipython-input-15-03fcfbcda43e>\u001b[0m in \u001b[0;36m<module>\u001b[1;34m\u001b[0m\n\u001b[1;32m----> 1\u001b[1;33m \u001b[0m_b\u001b[0m\u001b[1;33m@=\u001b[0m\u001b[1;36m80\u001b[0m \u001b[1;31m# is not valid as variable should not contain special charcters other than _\u001b[0m\u001b[1;33m\u001b[0m\u001b[1;33m\u001b[0m\u001b[0m\n\u001b[0m",
      "\u001b[1;31mTypeError\u001b[0m: unsupported operand type(s) for @=: 'int' and 'int'"
     ]
    }
   ],
   "source": [
    "_b@=80 # is not valid as variable should not contain special charcters other than _"
   ]
  },
  {
   "cell_type": "code",
   "execution_count": 16,
   "id": "c628beaf",
   "metadata": {},
   "outputs": [
    {
     "data": {
      "text/plain": [
       "float"
      ]
     },
     "execution_count": 16,
     "metadata": {},
     "output_type": "execute_result"
    }
   ],
   "source": [
    "a=1.6\n",
    "type(a)"
   ]
  },
  {
   "cell_type": "code",
   "execution_count": 17,
   "id": "1e7acafc",
   "metadata": {},
   "outputs": [
    {
     "data": {
      "text/plain": [
       "bool"
      ]
     },
     "execution_count": 17,
     "metadata": {},
     "output_type": "execute_result"
    }
   ],
   "source": [
    "b,c=True,False\n",
    "type(b)"
   ]
  },
  {
   "cell_type": "code",
   "execution_count": 21,
   "id": "9a5811f7",
   "metadata": {},
   "outputs": [
    {
     "name": "stdout",
     "output_type": "stream",
     "text": [
      "1\n",
      "2\n",
      "0\n",
      "4\n",
      "0\n"
     ]
    }
   ],
   "source": [
    "print(b+c)\n",
    "print(b+b)\n",
    "print(c+c)\n",
    "print(True+True+True+False+True)\n",
    "print(False-True+True)"
   ]
  },
  {
   "cell_type": "code",
   "execution_count": 25,
   "id": "475dc7b3",
   "metadata": {},
   "outputs": [
    {
     "name": "stdout",
     "output_type": "stream",
     "text": [
      "1\n"
     ]
    },
    {
     "ename": "ZeroDivisionError",
     "evalue": "division by zero",
     "output_type": "error",
     "traceback": [
      "\u001b[1;31m---------------------------------------------------------------------------\u001b[0m",
      "\u001b[1;31mZeroDivisionError\u001b[0m                         Traceback (most recent call last)",
      "\u001b[1;32m<ipython-input-25-73265a26d214>\u001b[0m in \u001b[0;36m<module>\u001b[1;34m\u001b[0m\n\u001b[0;32m      1\u001b[0m \u001b[0mprint\u001b[0m\u001b[1;33m(\u001b[0m\u001b[1;32mTrue\u001b[0m\u001b[1;33m*\u001b[0m\u001b[1;32mTrue\u001b[0m\u001b[1;33m)\u001b[0m\u001b[1;33m\u001b[0m\u001b[1;33m\u001b[0m\u001b[0m\n\u001b[1;32m----> 2\u001b[1;33m \u001b[0mprint\u001b[0m\u001b[1;33m(\u001b[0m\u001b[1;32mTrue\u001b[0m\u001b[1;33m/\u001b[0m\u001b[1;32mFalse\u001b[0m\u001b[1;33m)\u001b[0m\u001b[1;33m\u001b[0m\u001b[1;33m\u001b[0m\u001b[0m\n\u001b[0m",
      "\u001b[1;31mZeroDivisionError\u001b[0m: division by zero"
     ]
    }
   ],
   "source": [
    "print(True*True)\n",
    "print(True/False)"
   ]
  },
  {
   "cell_type": "code",
   "execution_count": 28,
   "id": "00a3f8c2",
   "metadata": {},
   "outputs": [
    {
     "data": {
      "text/plain": [
       "complex"
      ]
     },
     "execution_count": 28,
     "metadata": {},
     "output_type": "execute_result"
    }
   ],
   "source": [
    "n=45+6j # if we use other than j in the imaginary part it will throw the error\n",
    "type(n)"
   ]
  },
  {
   "cell_type": "code",
   "execution_count": 29,
   "id": "572a28e1",
   "metadata": {},
   "outputs": [
    {
     "name": "stdout",
     "output_type": "stream",
     "text": [
      "45.0\n",
      "6.0\n"
     ]
    }
   ],
   "source": [
    "print(n.real)\n",
    "print(n.imag)"
   ]
  },
  {
   "cell_type": "markdown",
   "id": "669b424e",
   "metadata": {},
   "source": [
    "Python is a Dynamic programming language"
   ]
  },
  {
   "cell_type": "code",
   "execution_count": 30,
   "id": "ce904007",
   "metadata": {},
   "outputs": [
    {
     "ename": "TypeError",
     "evalue": "unsupported operand type(s) for +: 'int' and 'str'",
     "output_type": "error",
     "traceback": [
      "\u001b[1;31m---------------------------------------------------------------------------\u001b[0m",
      "\u001b[1;31mTypeError\u001b[0m                                 Traceback (most recent call last)",
      "\u001b[1;32m<ipython-input-30-61bea7399bf8>\u001b[0m in \u001b[0;36m<module>\u001b[1;34m\u001b[0m\n\u001b[1;32m----> 1\u001b[1;33m \u001b[1;36m1\u001b[0m\u001b[1;33m+\u001b[0m\u001b[1;34m\"manidhar\"\u001b[0m\u001b[1;33m\u001b[0m\u001b[1;33m\u001b[0m\u001b[0m\n\u001b[0m",
      "\u001b[1;31mTypeError\u001b[0m: unsupported operand type(s) for +: 'int' and 'str'"
     ]
    }
   ],
   "source": [
    "1+\"manidhar\""
   ]
  },
  {
   "cell_type": "code",
   "execution_count": 33,
   "id": "3d0cc75b",
   "metadata": {},
   "outputs": [
    {
     "ename": "TypeError",
     "evalue": "unsupported operand type(s) for +: 'int' and 'str'",
     "output_type": "error",
     "traceback": [
      "\u001b[1;31m---------------------------------------------------------------------------\u001b[0m",
      "\u001b[1;31mTypeError\u001b[0m                                 Traceback (most recent call last)",
      "\u001b[1;32m<ipython-input-33-308af387d779>\u001b[0m in \u001b[0;36m<module>\u001b[1;34m\u001b[0m\n\u001b[1;32m----> 1\u001b[1;33m \u001b[1;36m1\u001b[0m\u001b[1;33m+\u001b[0m\u001b[1;34m'1'\u001b[0m \u001b[1;31m# This is called strong typing\u001b[0m\u001b[1;33m\u001b[0m\u001b[1;33m\u001b[0m\u001b[0m\n\u001b[0m",
      "\u001b[1;31mTypeError\u001b[0m: unsupported operand type(s) for +: 'int' and 'str'"
     ]
    }
   ],
   "source": [
    "1+'1' # This is called strong typing"
   ]
  },
  {
   "cell_type": "code",
   "execution_count": 34,
   "id": "253318e1",
   "metadata": {},
   "outputs": [
    {
     "data": {
      "text/plain": [
       "3"
      ]
     },
     "execution_count": 34,
     "metadata": {},
     "output_type": "execute_result"
    }
   ],
   "source": [
    "2+int('1')"
   ]
  },
  {
   "cell_type": "code",
   "execution_count": 36,
   "id": "e1327246",
   "metadata": {},
   "outputs": [
    {
     "data": {
      "text/plain": [
       "2.0"
      ]
     },
     "execution_count": 36,
     "metadata": {},
     "output_type": "execute_result"
    }
   ],
   "source": [
    "1+1.0 # this is called upcasting. Here int is converted to float"
   ]
  },
  {
   "cell_type": "code",
   "execution_count": 41,
   "id": "b029e591",
   "metadata": {},
   "outputs": [
    {
     "data": {
      "text/plain": [
       "'manidhar manidhar manidhar '"
      ]
     },
     "execution_count": 41,
     "metadata": {},
     "output_type": "execute_result"
    }
   ],
   "source": [
    "\"manidhar \"+\"manidhar \"+\"manidhar \""
   ]
  },
  {
   "cell_type": "code",
   "execution_count": 42,
   "id": "ca8921fe",
   "metadata": {},
   "outputs": [
    {
     "data": {
      "text/plain": [
       "'manidhar manidhar manidhar '"
      ]
     },
     "execution_count": 42,
     "metadata": {},
     "output_type": "execute_result"
    }
   ],
   "source": [
    "\"manidhar \"*3"
   ]
  },
  {
   "cell_type": "code",
   "execution_count": 43,
   "id": "527581bd",
   "metadata": {},
   "outputs": [
    {
     "ename": "TypeError",
     "evalue": "can't multiply sequence by non-int of type 'str'",
     "output_type": "error",
     "traceback": [
      "\u001b[1;31m---------------------------------------------------------------------------\u001b[0m",
      "\u001b[1;31mTypeError\u001b[0m                                 Traceback (most recent call last)",
      "\u001b[1;32m<ipython-input-43-1922ad13918b>\u001b[0m in \u001b[0;36m<module>\u001b[1;34m\u001b[0m\n\u001b[1;32m----> 1\u001b[1;33m \u001b[1;34m\"mani\"\u001b[0m \u001b[1;33m*\u001b[0m \u001b[1;34m\"mani\"\u001b[0m\u001b[1;33m\u001b[0m\u001b[1;33m\u001b[0m\u001b[0m\n\u001b[0m",
      "\u001b[1;31mTypeError\u001b[0m: can't multiply sequence by non-int of type 'str'"
     ]
    }
   ],
   "source": [
    "\"mani\" * \"mani\""
   ]
  },
  {
   "cell_type": "code",
   "execution_count": 44,
   "id": "256dfdab",
   "metadata": {},
   "outputs": [
    {
     "name": "stdout",
     "output_type": "stream",
     "text": [
      "10\n"
     ]
    }
   ],
   "source": [
    "a=input()"
   ]
  },
  {
   "cell_type": "code",
   "execution_count": 46,
   "id": "a0ddc05c",
   "metadata": {},
   "outputs": [
    {
     "data": {
      "text/plain": [
       "str"
      ]
     },
     "execution_count": 46,
     "metadata": {},
     "output_type": "execute_result"
    }
   ],
   "source": [
    "type(a) # because by default input will return the string"
   ]
  },
  {
   "cell_type": "raw",
   "id": "c1e9d7fa",
   "metadata": {},
   "source": [
    "Q1) take the integer input from the user (input variables a,b,c)\n",
    "Q2)  (a+b)/c\n",
    "Q3) concate it with complex variable\n",
    "Q4) concate it with your name"
   ]
  },
  {
   "cell_type": "code",
   "execution_count": 58,
   "id": "4ba8bed8",
   "metadata": {},
   "outputs": [
    {
     "name": "stdout",
     "output_type": "stream",
     "text": [
      "Enter Integer Value 32\n",
      "Enter Integer Value 21\n",
      "Enter Integer Value 10\n",
      "5.3\n",
      "(50.3+6j)\n",
      "(50.3+6j)Manidhar\n"
     ]
    }
   ],
   "source": [
    "a,b,c=int(input(\"Enter Integer Value \")),int(input(\"Enter Integer Value \")),int(input(\"Enter Integer Value \"))\n",
    "print((a+b)/c)\n",
    "print((a+b)/c +45+6j)\n",
    "print(str((a+b)/c +45+6j) + \"Manidhar\")"
   ]
  },
  {
   "cell_type": "markdown",
   "id": "0a4d9e1d",
   "metadata": {},
   "source": [
    "# Conditional Statements"
   ]
  },
  {
   "cell_type": "code",
   "execution_count": 59,
   "id": "92b859c2",
   "metadata": {},
   "outputs": [
    {
     "name": "stdout",
     "output_type": "stream",
     "text": [
      "Input a number less than 34 10\n"
     ]
    }
   ],
   "source": [
    "a=int(input(\"Input a number less than 34: \"))"
   ]
  },
  {
   "cell_type": "code",
   "execution_count": 60,
   "id": "84d408e2",
   "metadata": {},
   "outputs": [],
   "source": [
    "if a <34:\n",
    "    pass # does nothing"
   ]
  },
  {
   "cell_type": "code",
   "execution_count": 62,
   "id": "8afd3467",
   "metadata": {},
   "outputs": [
    {
     "name": "stdout",
     "output_type": "stream",
     "text": [
      "Input a number less than 34: 4\n",
      "You entered right value\n"
     ]
    }
   ],
   "source": [
    "a=int(input(\"Input a number less than 34: \"))\n",
    "if a<34:\n",
    "    print('You entered right value')"
   ]
  },
  {
   "cell_type": "code",
   "execution_count": 63,
   "id": "7c8e6cda",
   "metadata": {},
   "outputs": [
    {
     "name": "stdout",
     "output_type": "stream",
     "text": [
      "Input a number less than 34: 90\n",
      "You have entered the value greater than 34\n"
     ]
    }
   ],
   "source": [
    "a=int(input(\"Input a number less than 34: \"))\n",
    "if a<34:\n",
    "    print('You entered right value')\n",
    "else:\n",
    "    print(\"You have entered the value greater than 34\")"
   ]
  },
  {
   "cell_type": "code",
   "execution_count": 65,
   "id": "3a67568f",
   "metadata": {},
   "outputs": [
    {
     "name": "stdout",
     "output_type": "stream",
     "text": [
      "Input a number less than 34: 90\n",
      "Value entered is less than hundred\n"
     ]
    }
   ],
   "source": [
    "a=int(input(\"Input a number less than 34: \"))\n",
    "if a<34:\n",
    "    print('You entered right value')\n",
    "elif a<100:\n",
    "    print(\"Value entered is less than hundred\")\n",
    "else:\n",
    "    print(\"You have entered the value greater than 34\")"
   ]
  },
  {
   "cell_type": "code",
   "execution_count": 67,
   "id": "cea1baa9",
   "metadata": {},
   "outputs": [
    {
     "name": "stdout",
     "output_type": "stream",
     "text": [
      "Enter your salary4000\n",
      "Plan saving\n"
     ]
    }
   ],
   "source": [
    "salary=int(input(\"Enter your salary\"))\n",
    "if salary <100:\n",
    "    print(\"I will not by anything\")\n",
    "elif salary <500:\n",
    "    print(\"I will by a bike\")\n",
    "elif salary<1000:\n",
    "    print(\"I will buy a car\")\n",
    "else:\n",
    "    print(\"Plan saving\")"
   ]
  },
  {
   "cell_type": "code",
   "execution_count": 72,
   "id": "909fcd91",
   "metadata": {},
   "outputs": [
    {
     "name": "stdout",
     "output_type": "stream",
     "text": [
      "Enter your salary : 50001\n",
      "Your salary is good\n",
      "Prefer Hundai Car\n"
     ]
    }
   ],
   "source": [
    "salary=int(input(\"Enter your salary : \"))\n",
    "if salary >1000:\n",
    "    print(\"Your salary is good\")\n",
    "    if salary >50000:\n",
    "        print(\"Prefer Hundai Car\")\n",
    "    elif salary > 10000:\n",
    "        print(\"Prefer Maruthi\")\n",
    "    elif salary > 5000:\n",
    "        print(\"Prefer Nano\")\n",
    "    else:\n",
    "        print(\"I will rent a car\")\n",
    "elif salary <500:\n",
    "    print(\"I will by a bike\")\n",
    "elif salary<1000:\n",
    "    print(\"I will buy a car\")\n",
    "else:\n",
    "    print(\"Plan saving\")"
   ]
  },
  {
   "cell_type": "code",
   "execution_count": 73,
   "id": "6159ac0e",
   "metadata": {},
   "outputs": [
    {
     "name": "stdout",
     "output_type": "stream",
     "text": [
      "this is a valid statement\n"
     ]
    }
   ],
   "source": [
    "a=10\n",
    "b=20\n",
    "\n",
    "if a==10 and b==20:\n",
    "    print(\"this is a valid statement\")"
   ]
  },
  {
   "cell_type": "code",
   "execution_count": 74,
   "id": "3ef83282",
   "metadata": {},
   "outputs": [
    {
     "data": {
      "text/plain": [
       "True"
      ]
     },
     "execution_count": 74,
     "metadata": {},
     "output_type": "execute_result"
    }
   ],
   "source": [
    "a==10 and b==20"
   ]
  },
  {
   "cell_type": "code",
   "execution_count": 76,
   "id": "9e37eab5",
   "metadata": {},
   "outputs": [
    {
     "name": "stdout",
     "output_type": "stream",
     "text": [
      "condition not satisfied\n"
     ]
    }
   ],
   "source": [
    "a=10\n",
    "b=20\n",
    "\n",
    "if a==10 and b>20:\n",
    "    print(\"this is a valid statement\")\n",
    "else:\n",
    "    print(\"condition not satisfied\")"
   ]
  },
  {
   "cell_type": "code",
   "execution_count": 77,
   "id": "9b146a01",
   "metadata": {},
   "outputs": [
    {
     "name": "stdout",
     "output_type": "stream",
     "text": [
      "The or condition satisfied\n"
     ]
    }
   ],
   "source": [
    "a=10\n",
    "b=20\n",
    "\n",
    "if a==10 and b>20:\n",
    "    print(\"this is a valid statement\")\n",
    "elif a==10 or b<20:\n",
    "    print(\"The or condition satisfied\")\n",
    "else:\n",
    "    print(\"condition not satisfied\")"
   ]
  },
  {
   "cell_type": "raw",
   "id": "d5007147",
   "metadata": {},
   "source": [
    "Q) Take input from your keyboard as your first name and last name and then try to validate by writing multiple conditions"
   ]
  },
  {
   "cell_type": "code",
   "execution_count": 81,
   "id": "b7c29f6d",
   "metadata": {},
   "outputs": [
    {
     "name": "stdout",
     "output_type": "stream",
     "text": [
      "Enter your first nameManidhar\n",
      "Enter your middle nameKarnatakam\n",
      "Enter your last nameKarnatakam\n",
      "Hello Admin\n"
     ]
    }
   ],
   "source": [
    "fname=input(\"Enter your first name \")\n",
    "mname=input(\"Enter your middle name \")\n",
    "lname=input(\"Enter your last name \")\n",
    "\n",
    "if fname=='Manidhar' and lname=='Karnatakam':\n",
    "    if lname=='Karnatakam' or mname=='Kumar':\n",
    "        print(\"Hello Admin\")\n",
    "else:\n",
    "    print(\"Hello Guest\")\n"
   ]
  }
 ],
 "metadata": {
  "kernelspec": {
   "display_name": "Python 3",
   "language": "python",
   "name": "python3"
  },
  "language_info": {
   "codemirror_mode": {
    "name": "ipython",
    "version": 3
   },
   "file_extension": ".py",
   "mimetype": "text/x-python",
   "name": "python",
   "nbconvert_exporter": "python",
   "pygments_lexer": "ipython3",
   "version": "3.8.8"
  }
 },
 "nbformat": 4,
 "nbformat_minor": 5
}
