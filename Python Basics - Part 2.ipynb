{
 "cells": [
  {
   "cell_type": "markdown",
   "id": "70407ad8",
   "metadata": {},
   "source": [
    "# Loops (while,while-else,for,for-else)"
   ]
  },
  {
   "cell_type": "code",
   "execution_count": 1,
   "id": "2b3857e2",
   "metadata": {},
   "outputs": [
    {
     "name": "stdout",
     "output_type": "stream",
     "text": [
      "My current Speed :  0\n",
      "My current Speed :  10\n",
      "My current Speed :  20\n",
      "My current Speed :  30\n",
      "My current Speed :  40\n",
      "My current Speed :  50\n",
      "My current Speed :  60\n",
      "My current Speed :  70\n",
      "My current Speed :  80\n",
      "My current Speed :  90\n",
      "My current Speed :  100\n",
      "My current Speed :  110\n",
      "My current Speed :  120\n",
      "My current Speed :  130\n",
      "You are Overspeeding\n",
      "My current Speed :  140\n",
      "You are Overspeeding\n",
      "My current Speed :  150\n",
      "You are Overspeeding\n",
      "My current Speed :  160\n",
      "You are Overspeeding\n",
      "My current Speed :  170\n",
      "You are Overspeeding\n",
      "My current Speed :  180\n",
      "You are Overspeeding\n",
      "My current Speed :  190\n",
      "You are Overspeeding\n",
      "My current Speed :  200\n",
      "You are Overspeeding\n",
      "My current Speed :  210\n",
      "You are Overspeeding\n",
      "My current Speed :  220\n",
      "You are Overspeeding\n",
      "My current Speed :  230\n",
      "You are Overspeeding\n",
      "My current Speed :  240\n",
      "You are Overspeeding\n",
      "My current Speed :  250\n",
      "Please slow down\n"
     ]
    }
   ],
   "source": [
    "initial_speed,final_speed=0,250\n",
    "while initial_speed <= final_speed:\n",
    "    print(\"My current Speed : \",initial_speed)\n",
    "    if initial_speed >120 and initial_speed!=final_speed:\n",
    "        print(\"You are Overspeeding\")\n",
    "    elif initial_speed==final_speed:\n",
    "        print(\"Please slow down\")\n",
    "    initial_speed=initial_speed+10"
   ]
  },
  {
   "cell_type": "markdown",
   "id": "7945a52d",
   "metadata": {},
   "source": [
    "<b>Note :</b> In while-else else block will be executed only when while loops exhausts itself. "
   ]
  },
  {
   "cell_type": "code",
   "execution_count": 2,
   "id": "e768b9b1",
   "metadata": {},
   "outputs": [
    {
     "name": "stdout",
     "output_type": "stream",
     "text": [
      "1\n",
      "2\n",
      "3\n",
      "4\n",
      "No 10 rs notes are available\n"
     ]
    }
   ],
   "source": [
    "notes=5\n",
    "i=1\n",
    "while i<notes:\n",
    "    print(i)\n",
    "    i+=1\n",
    "else:\n",
    "    print(\"No 10 rs notes are available\")"
   ]
  },
  {
   "cell_type": "code",
   "execution_count": 3,
   "id": "517a9caa",
   "metadata": {},
   "outputs": [
    {
     "name": "stdout",
     "output_type": "stream",
     "text": [
      "1\n",
      "2\n",
      "3\n"
     ]
    }
   ],
   "source": [
    "notes=5\n",
    "i=1\n",
    "while i<notes:\n",
    "    if i==4:\n",
    "        break\n",
    "    print(i)\n",
    "    i+=1\n",
    "else:\n",
    "    print(\"No 10 rs notes are available\")"
   ]
  },
  {
   "cell_type": "code",
   "execution_count": 4,
   "id": "60121456",
   "metadata": {},
   "outputs": [
    {
     "name": "stdout",
     "output_type": "stream",
     "text": [
      "1\n",
      "2\n",
      "3\n",
      "4\n",
      "No 10 rs notes are available\n"
     ]
    }
   ],
   "source": [
    "notes=5\n",
    "i=1\n",
    "while i<notes:\n",
    "    print(i)\n",
    "    i+=1\n",
    "    if i==3:\n",
    "        continue\n",
    "else:\n",
    "    print(\"No 10 rs notes are available\")"
   ]
  },
  {
   "cell_type": "code",
   "execution_count": 5,
   "id": "63771de1",
   "metadata": {},
   "outputs": [],
   "source": [
    "s='my name is manidhar'"
   ]
  },
  {
   "cell_type": "code",
   "execution_count": 6,
   "id": "1832b44a",
   "metadata": {},
   "outputs": [
    {
     "data": {
      "text/plain": [
       "'n'"
      ]
     },
     "execution_count": 6,
     "metadata": {},
     "output_type": "execute_result"
    }
   ],
   "source": [
    "s[3]# index starts from 0"
   ]
  },
  {
   "cell_type": "code",
   "execution_count": 7,
   "id": "f14e2e9b",
   "metadata": {},
   "outputs": [
    {
     "data": {
      "text/plain": [
       "'name is'"
      ]
     },
     "execution_count": 7,
     "metadata": {},
     "output_type": "execute_result"
    }
   ],
   "source": [
    "s[3:10]# 3 is inclusive and 10 is exclusive i.e from index 3 to index 9"
   ]
  },
  {
   "cell_type": "code",
   "execution_count": 8,
   "id": "f80eb594",
   "metadata": {},
   "outputs": [
    {
     "data": {
      "text/plain": [
       "'nm s'"
      ]
     },
     "execution_count": 8,
     "metadata": {},
     "output_type": "execute_result"
    }
   ],
   "source": [
    "s[3:10:2] # Hear 2 is the third parameter is step size."
   ]
  },
  {
   "cell_type": "code",
   "execution_count": 9,
   "id": "c56c2e8f",
   "metadata": {},
   "outputs": [
    {
     "data": {
      "text/plain": [
       "''"
      ]
     },
     "execution_count": 9,
     "metadata": {},
     "output_type": "execute_result"
    }
   ],
   "source": [
    "s[10:3:1]"
   ]
  },
  {
   "cell_type": "code",
   "execution_count": 10,
   "id": "0bda60ca",
   "metadata": {},
   "outputs": [
    {
     "data": {
      "text/plain": [
       "' si ema'"
      ]
     },
     "execution_count": 10,
     "metadata": {},
     "output_type": "execute_result"
    }
   ],
   "source": [
    "s[10:3:-1] # negative indexing example"
   ]
  },
  {
   "cell_type": "code",
   "execution_count": 11,
   "id": "43f0b2f9",
   "metadata": {},
   "outputs": [
    {
     "data": {
      "text/plain": [
       "'rahdinam si eman ym'"
      ]
     },
     "execution_count": 11,
     "metadata": {},
     "output_type": "execute_result"
    }
   ],
   "source": [
    "s[::-1] # reverse the data. Hear -1 is the third parameter is step size."
   ]
  },
  {
   "cell_type": "code",
   "execution_count": 12,
   "id": "abe2eb6f",
   "metadata": {},
   "outputs": [
    {
     "data": {
      "text/plain": [
       "' name is ma'"
      ]
     },
     "execution_count": 12,
     "metadata": {},
     "output_type": "execute_result"
    }
   ],
   "source": [
    "s[2:-6]# this possible because python supports negative indexing"
   ]
  },
  {
   "cell_type": "code",
   "execution_count": 13,
   "id": "fa6bb031",
   "metadata": {},
   "outputs": [
    {
     "data": {
      "text/plain": [
       "(' ', 'a')"
      ]
     },
     "execution_count": 13,
     "metadata": {},
     "output_type": "execute_result"
    }
   ],
   "source": [
    "s[2],s[-7]"
   ]
  },
  {
   "cell_type": "code",
   "execution_count": 14,
   "id": "96ad54cd",
   "metadata": {},
   "outputs": [
    {
     "name": "stdout",
     "output_type": "stream",
     "text": [
      "m\n",
      "y\n",
      " \n",
      "n\n",
      "a\n",
      "m\n",
      "e\n",
      " \n",
      "i\n",
      "s\n",
      " \n",
      "m\n",
      "a\n",
      "n\n",
      "i\n",
      "d\n",
      "h\n",
      "a\n",
      "r\n"
     ]
    }
   ],
   "source": [
    "for i in s:\n",
    "    print(i)"
   ]
  },
  {
   "cell_type": "code",
   "execution_count": 15,
   "id": "665af282",
   "metadata": {},
   "outputs": [
    {
     "name": "stdout",
     "output_type": "stream",
     "text": [
      "my name is manidhar"
     ]
    }
   ],
   "source": [
    "for i in s:\n",
    "    print(i,end=\"\")"
   ]
  },
  {
   "cell_type": "code",
   "execution_count": 16,
   "id": "946d8a6b",
   "metadata": {},
   "outputs": [
    {
     "name": "stdout",
     "output_type": "stream",
     "text": [
      "m\n",
      "y\n",
      " \n",
      "n\n",
      "I got a\n",
      "a\n",
      "m\n",
      "e\n",
      " \n",
      "i\n",
      "s\n",
      " \n",
      "m\n",
      "I got a\n",
      "a\n",
      "n\n",
      "i\n",
      "d\n",
      "h\n",
      "I got a\n",
      "a\n",
      "r\n"
     ]
    }
   ],
   "source": [
    "for i in s:\n",
    "    if i=='a':\n",
    "        print(\"I got a\")\n",
    "    print(i)"
   ]
  },
  {
   "cell_type": "code",
   "execution_count": 17,
   "id": "80ad4e9b",
   "metadata": {},
   "outputs": [
    {
     "name": "stdout",
     "output_type": "stream",
     "text": [
      "m\n",
      "y\n",
      " \n",
      "n\n",
      "a\n",
      "m\n",
      "e\n",
      " \n",
      "i\n",
      "s\n",
      " \n",
      "m\n",
      "a\n",
      "n\n",
      "i\n",
      "d\n",
      "h\n",
      "a\n",
      "r\n",
      "This is for else condition\n"
     ]
    }
   ],
   "source": [
    "for i in s:\n",
    "    print(i)\n",
    "else:\n",
    "    print(\"This is for else condition\")"
   ]
  },
  {
   "cell_type": "code",
   "execution_count": 18,
   "id": "ecc9695f",
   "metadata": {},
   "outputs": [
    {
     "name": "stdout",
     "output_type": "stream",
     "text": [
      "m\n",
      "y\n",
      " \n"
     ]
    }
   ],
   "source": [
    "for i in s:\n",
    "    if i=='n':\n",
    "        break\n",
    "    print(i)\n",
    "else:\n",
    "    print(\"This is for else condition\")"
   ]
  },
  {
   "cell_type": "code",
   "execution_count": 19,
   "id": "bdadfd6b",
   "metadata": {},
   "outputs": [
    {
     "name": "stdout",
     "output_type": "stream",
     "text": [
      "m\n",
      "y\n",
      " \n",
      "a\n",
      "m\n",
      "e\n",
      " \n",
      "i\n",
      "s\n",
      " \n",
      "m\n",
      "a\n",
      "i\n",
      "d\n",
      "h\n",
      "a\n",
      "r\n",
      "This is for else condition\n"
     ]
    }
   ],
   "source": [
    "for i in s:\n",
    "    if i=='n':\n",
    "        continue\n",
    "    print(i)\n",
    "else:\n",
    "    print(\"This is for else condition\")"
   ]
  },
  {
   "cell_type": "code",
   "execution_count": 20,
   "id": "eb3d6377",
   "metadata": {},
   "outputs": [
    {
     "data": {
      "text/plain": [
       "19"
      ]
     },
     "execution_count": 20,
     "metadata": {},
     "output_type": "execute_result"
    }
   ],
   "source": [
    "len(s)# length of string"
   ]
  },
  {
   "cell_type": "code",
   "execution_count": 25,
   "id": "e860f5ad",
   "metadata": {},
   "outputs": [
    {
     "name": "stdout",
     "output_type": "stream",
     "text": [
      "Enter n value : 7\n",
      "* \n",
      "* * \n",
      "* * * \n",
      "* * * * \n",
      "* * * * * \n",
      "* * * * * * \n",
      "* * * * * * * \n"
     ]
    }
   ],
   "source": [
    "n=int(input(\"Enter n value : \"))\n",
    "for i in range(0,n):\n",
    "    for j in range(0,i+1):\n",
    "        print('* ',end=\"\")\n",
    "    print(\"\\r\")"
   ]
  },
  {
   "cell_type": "raw",
   "id": "783e2387",
   "metadata": {},
   "source": [
    "* * * * * * *\n",
    " * * * * * *\n",
    "  * * * * *\n",
    "   * * * *\n",
    "    * * *\n",
    "     * *\n",
    "      *"
   ]
  },
  {
   "cell_type": "code",
   "execution_count": 22,
   "id": "09c1dbe9",
   "metadata": {},
   "outputs": [
    {
     "name": "stdout",
     "output_type": "stream",
     "text": [
      "Enter the n value : 7\n",
      " * * * * * * * \n",
      "  * * * * * * \n",
      "   * * * * * \n",
      "    * * * * \n",
      "     * * * \n",
      "      * * \n",
      "       * \n",
      "        \n"
     ]
    }
   ],
   "source": [
    "n=int(input(\"Enter the n value : \"))\n",
    "x=1\n",
    "for i in range(n,-1,-1):\n",
    "    for k in range(0,x):\n",
    "        print(end=\" \")\n",
    "    for j in range(0,i):\n",
    "        print(\"* \",end=\"\")\n",
    "    x+=1\n",
    "    print(\"\\r\")"
   ]
  },
  {
   "cell_type": "raw",
   "id": "f5982c71",
   "metadata": {},
   "source": [
    "Q) Print the above output in reverse order using while loop"
   ]
  },
  {
   "cell_type": "code",
   "execution_count": 26,
   "id": "5877dd70",
   "metadata": {},
   "outputs": [
    {
     "name": "stdout",
     "output_type": "stream",
     "text": [
      "Enter n value : 7\n",
      "        *\n",
      "       * *\n",
      "      * * *\n",
      "     * * * *\n",
      "    * * * * *\n",
      "   * * * * * *\n",
      "  * * * * * * *\n"
     ]
    }
   ],
   "source": [
    "i=int(input(\"Enter n value : \"))\n",
    "s=i\n",
    "while i >0:\n",
    "    j,x=0,i\n",
    "    while j<i:\n",
    "        print(\" \",end=\"\")\n",
    "        j+=1\n",
    "        #print(x)\n",
    "    while x<=s:\n",
    "        print(\" *\",end=\"\")\n",
    "        x+=1\n",
    "    print(\"\\r\")\n",
    "    i-=1"
   ]
  },
  {
   "cell_type": "code",
   "execution_count": 27,
   "id": "6b8fca64",
   "metadata": {},
   "outputs": [
    {
     "name": "stdout",
     "output_type": "stream",
     "text": [
      "Enter n value : 7\n",
      "      * \n",
      "     * * \n",
      "    * * * \n",
      "   * * * * \n",
      "  * * * * * \n",
      " * * * * * * \n",
      "* * * * * * * \n"
     ]
    }
   ],
   "source": [
    "n=int(input(\"Enter n value : \"))\n",
    "i=0\n",
    "while i < n:\n",
    "    print(' '*(n-i-1)+\"* \"*(i+1))\n",
    "    i+=1"
   ]
  },
  {
   "cell_type": "code",
   "execution_count": 1,
   "id": "21854f15",
   "metadata": {},
   "outputs": [],
   "source": [
    "l=[\"Manidhar\",8872888887,\"safsadlfjsld\"]"
   ]
  },
  {
   "cell_type": "code",
   "execution_count": 3,
   "id": "be43ac89",
   "metadata": {},
   "outputs": [
    {
     "data": {
      "text/plain": [
       "('Manidhar', 8872888887, 'safsadlfjsld')"
      ]
     },
     "execution_count": 3,
     "metadata": {},
     "output_type": "execute_result"
    }
   ],
   "source": [
    "l[0],l[1],l[2]"
   ]
  },
  {
   "cell_type": "code",
   "execution_count": 4,
   "id": "1a9ce882",
   "metadata": {},
   "outputs": [
    {
     "data": {
      "text/plain": [
       "list"
      ]
     },
     "execution_count": 4,
     "metadata": {},
     "output_type": "execute_result"
    }
   ],
   "source": [
    "type(l)"
   ]
  },
  {
   "cell_type": "code",
   "execution_count": 6,
   "id": "ec3e3323",
   "metadata": {},
   "outputs": [
    {
     "data": {
      "text/plain": [
       "list"
      ]
     },
     "execution_count": 6,
     "metadata": {},
     "output_type": "execute_result"
    }
   ],
   "source": [
    "l1=[]\n",
    "type(l1)"
   ]
  },
  {
   "cell_type": "code",
   "execution_count": 7,
   "id": "7be9a377",
   "metadata": {},
   "outputs": [
    {
     "data": {
      "text/plain": [
       "list"
      ]
     },
     "execution_count": 7,
     "metadata": {},
     "output_type": "execute_result"
    }
   ],
   "source": [
    "l2=list()\n",
    "type(l2)"
   ]
  },
  {
   "cell_type": "code",
   "execution_count": 10,
   "id": "b546d380",
   "metadata": {},
   "outputs": [],
   "source": [
    "l2=[1,2,3,4,5.0,\"test\",True,45.9j,[1,2,34,5,\"jskks\"],8]"
   ]
  },
  {
   "cell_type": "code",
   "execution_count": 11,
   "id": "2f9bee5e",
   "metadata": {},
   "outputs": [
    {
     "data": {
      "text/plain": [
       "[1, 2, 3, 4, 5.0, 'test', True, 45.9j, [1, 2, 34, 5, 'jskks'], 8]"
      ]
     },
     "execution_count": 11,
     "metadata": {},
     "output_type": "execute_result"
    }
   ],
   "source": [
    "l2"
   ]
  },
  {
   "cell_type": "code",
   "execution_count": 14,
   "id": "b84bc21e",
   "metadata": {},
   "outputs": [
    {
     "name": "stdout",
     "output_type": "stream",
     "text": [
      "<class 'int'>\n",
      "<class 'int'>\n",
      "<class 'int'>\n",
      "<class 'int'>\n",
      "<class 'float'>\n",
      "<class 'str'>\n",
      "<class 'bool'>\n",
      "<class 'complex'>\n",
      "<class 'list'>\n",
      "<class 'int'>\n"
     ]
    }
   ],
   "source": [
    "for i in l2:\n",
    "    print(type(i))"
   ]
  },
  {
   "cell_type": "code",
   "execution_count": 15,
   "id": "6905919a",
   "metadata": {},
   "outputs": [
    {
     "name": "stdout",
     "output_type": "stream",
     "text": [
      "<class 'int'>\n",
      "<class 'int'>\n",
      "<class 'int'>\n",
      "<class 'int'>\n",
      "<class 'str'>\n"
     ]
    }
   ],
   "source": [
    "for i in l2:\n",
    "    if type(i)==list:\n",
    "        for j in i:\n",
    "            print(type(j))"
   ]
  },
  {
   "cell_type": "code",
   "execution_count": 16,
   "id": "65f18583",
   "metadata": {},
   "outputs": [
    {
     "name": "stdout",
     "output_type": "stream",
     "text": [
      "42\n",
      "<class 'str'>\n"
     ]
    }
   ],
   "source": [
    "for i in l2:\n",
    "    if type(i)==list:\n",
    "        n=0\n",
    "        for j in i:\n",
    "            if type(j) ==int:\n",
    "                n=n+j\n",
    "        print(n)\n",
    "        print(type(j))\n",
    "            "
   ]
  },
  {
   "cell_type": "code",
   "execution_count": 17,
   "id": "477027cd",
   "metadata": {},
   "outputs": [
    {
     "data": {
      "text/plain": [
       "[1, 2, 3, 4, 5.0]"
      ]
     },
     "execution_count": 17,
     "metadata": {},
     "output_type": "execute_result"
    }
   ],
   "source": [
    "l2[0:5]"
   ]
  },
  {
   "cell_type": "code",
   "execution_count": 21,
   "id": "9b5666aa",
   "metadata": {},
   "outputs": [
    {
     "data": {
      "text/plain": [
       "[[1, 2, 34, 5, 'jskks'], 45.9j, True, 'test', 5.0]"
      ]
     },
     "execution_count": 21,
     "metadata": {},
     "output_type": "execute_result"
    }
   ],
   "source": [
    "l2[8:3:-1]"
   ]
  },
  {
   "cell_type": "code",
   "execution_count": 22,
   "id": "b7ade020",
   "metadata": {},
   "outputs": [
    {
     "data": {
      "text/plain": [
       "range(4, 50)"
      ]
     },
     "execution_count": 22,
     "metadata": {},
     "output_type": "execute_result"
    }
   ],
   "source": [
    "range(4,50)"
   ]
  },
  {
   "cell_type": "code",
   "execution_count": 23,
   "id": "01d2af54",
   "metadata": {},
   "outputs": [
    {
     "data": {
      "text/plain": [
       "[0, 1, 2, 3, 4, 5, 6, 7, 8, 9]"
      ]
     },
     "execution_count": 23,
     "metadata": {},
     "output_type": "execute_result"
    }
   ],
   "source": [
    "list(range(10))"
   ]
  },
  {
   "cell_type": "code",
   "execution_count": null,
   "id": "412b7e1d",
   "metadata": {},
   "outputs": [],
   "source": [
    "f"
   ]
  }
 ],
 "metadata": {
  "kernelspec": {
   "display_name": "Python 3",
   "language": "python",
   "name": "python3"
  },
  "language_info": {
   "codemirror_mode": {
    "name": "ipython",
    "version": 3
   },
   "file_extension": ".py",
   "mimetype": "text/x-python",
   "name": "python",
   "nbconvert_exporter": "python",
   "pygments_lexer": "ipython3",
   "version": "3.8.8"
  }
 },
 "nbformat": 4,
 "nbformat_minor": 5
}
